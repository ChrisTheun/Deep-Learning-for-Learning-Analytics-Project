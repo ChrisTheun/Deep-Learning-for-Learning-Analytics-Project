{
 "cells": [
  {
   "cell_type": "code",
   "execution_count": 2,
   "metadata": {
    "collapsed": true
   },
   "outputs": [],
   "source": [
    "import numpy as np\n",
    "import pandas as pd\n",
    "import keras"
   ]
  },
  {
   "cell_type": "markdown",
   "metadata": {},
   "source": [
    "# Importing Data"
   ]
  },
  {
   "cell_type": "code",
   "execution_count": 3,
   "metadata": {
    "collapsed": true
   },
   "outputs": [],
   "source": [
    "BBB_Train = pd.read_csv(\"BBB_LSTM_Input_Train.csv\")\n",
    "DDD_Train = pd.read_csv(\"DDD_LSTM_Input_Train.csv\")\n",
    "FFF_Train = pd.read_csv(\"FFF_LSTM_Input_Train.csv\")\n",
    "\n",
    "BBB_Test = pd.read_csv(\"BBB_LSTM_Input_Test.csv\")\n",
    "DDD_Test = pd.read_csv(\"DDD_LSTM_Input_Test.csv\")\n",
    "FFF_Test = pd.read_csv(\"FFF_LSTM_Input_Test.csv\")\n",
    "\n",
    "BBB_AUX_Train = pd.read_csv(\"BBB_LSTM_AUX_Train.csv\", index_col=0)\n",
    "DDD_AUX_Train = pd.read_csv(\"DDD_LSTM_AUX_Train.csv\", index_col=0)\n",
    "FFF_AUX_Train = pd.read_csv(\"FFF_LSTM_AUX_Train.csv\", index_col=0)\n",
    "\n",
    "BBB_AUX_Test = pd.read_csv(\"BBB_LSTM_AUX_Test.csv\", index_col=0)\n",
    "DDD_AUX_Test = pd.read_csv(\"DDD_LSTM_AUX_Test.csv\", index_col=0)\n",
    "FFF_AUX_Test = pd.read_csv(\"FFF_LSTM_AUX_Test.csv\", index_col=0)\n"
   ]
  },
  {
   "cell_type": "markdown",
   "metadata": {},
   "source": [
    "# Transforming Data"
   ]
  },
  {
   "cell_type": "code",
   "execution_count": 4,
   "metadata": {
    "collapsed": true
   },
   "outputs": [],
   "source": [
    "BBB_Train_df = BBB_Train.iloc[:,3:6]\n",
    "DDD_Train_df = DDD_Train.iloc[:,3:6]\n",
    "FFF_Train_df = FFF_Train.iloc[:,3:6]\n",
    "\n",
    "BBB_Test_df = BBB_Test.iloc[:,3:6]\n",
    "DDD_Test_df = DDD_Test.iloc[:,3:6]\n",
    "FFF_Test_df = FFF_Test.iloc[:,3:6]"
   ]
  },
  {
   "cell_type": "code",
   "execution_count": 5,
   "metadata": {
    "collapsed": true
   },
   "outputs": [],
   "source": [
    "BBB_Train_Targets = BBB_Train[\"final_result\"][0::11]\n",
    "DDD_Train_Targets = DDD_Train[\"final_result\"][0::11]\n",
    "FFF_Train_Targets = FFF_Train[\"final_result\"][0::11]\n",
    "\n",
    "BBB_Test_Targets = BBB_Test[\"final_result\"][0::11]\n",
    "DDD_Test_Targets = DDD_Test[\"final_result\"][0::11]\n",
    "FFF_Test_Targets = FFF_Test[\"final_result\"][0::11]"
   ]
  },
  {
   "cell_type": "code",
   "execution_count": 6,
   "metadata": {},
   "outputs": [
    {
     "data": {
      "text/plain": [
       "0             Fail\n",
       "11            Pass\n",
       "22            Fail\n",
       "33     Distinction\n",
       "44            Pass\n",
       "55            Pass\n",
       "66            Fail\n",
       "77            Pass\n",
       "88            Fail\n",
       "99            Pass\n",
       "110           Pass\n",
       "121           Pass\n",
       "132           Pass\n",
       "143           Pass\n",
       "154           Pass\n",
       "165           Pass\n",
       "176           Pass\n",
       "187           Fail\n",
       "198           Fail\n",
       "209           Pass\n",
       "Name: final_result, dtype: object"
      ]
     },
     "execution_count": 6,
     "metadata": {},
     "output_type": "execute_result"
    }
   ],
   "source": [
    "FFF_Train_Targets.head(n=20)"
   ]
  },
  {
   "cell_type": "code",
   "execution_count": 7,
   "metadata": {},
   "outputs": [
    {
     "data": {
      "text/html": [
       "<div>\n",
       "<style scoped>\n",
       "    .dataframe tbody tr th:only-of-type {\n",
       "        vertical-align: middle;\n",
       "    }\n",
       "\n",
       "    .dataframe tbody tr th {\n",
       "        vertical-align: top;\n",
       "    }\n",
       "\n",
       "    .dataframe thead th {\n",
       "        text-align: right;\n",
       "    }\n",
       "</style>\n",
       "<table border=\"1\" class=\"dataframe\">\n",
       "  <thead>\n",
       "    <tr style=\"text-align: right;\">\n",
       "      <th></th>\n",
       "      <th>Avg_Clicks</th>\n",
       "      <th>Asgmts</th>\n",
       "      <th>Avg_Asgmt_Score</th>\n",
       "    </tr>\n",
       "  </thead>\n",
       "  <tbody>\n",
       "    <tr>\n",
       "      <th>0</th>\n",
       "      <td>2.159091</td>\n",
       "      <td>0</td>\n",
       "      <td>0.000000</td>\n",
       "    </tr>\n",
       "    <tr>\n",
       "      <th>1</th>\n",
       "      <td>23.260870</td>\n",
       "      <td>1</td>\n",
       "      <td>70.000000</td>\n",
       "    </tr>\n",
       "    <tr>\n",
       "      <th>2</th>\n",
       "      <td>0.708333</td>\n",
       "      <td>0</td>\n",
       "      <td>70.000000</td>\n",
       "    </tr>\n",
       "    <tr>\n",
       "      <th>3</th>\n",
       "      <td>0.708333</td>\n",
       "      <td>0</td>\n",
       "      <td>70.000000</td>\n",
       "    </tr>\n",
       "    <tr>\n",
       "      <th>4</th>\n",
       "      <td>6.958333</td>\n",
       "      <td>0</td>\n",
       "      <td>70.000000</td>\n",
       "    </tr>\n",
       "    <tr>\n",
       "      <th>5</th>\n",
       "      <td>1.208333</td>\n",
       "      <td>1</td>\n",
       "      <td>49.000000</td>\n",
       "    </tr>\n",
       "    <tr>\n",
       "      <th>6</th>\n",
       "      <td>0.000000</td>\n",
       "      <td>0</td>\n",
       "      <td>49.000000</td>\n",
       "    </tr>\n",
       "    <tr>\n",
       "      <th>7</th>\n",
       "      <td>0.000000</td>\n",
       "      <td>0</td>\n",
       "      <td>49.000000</td>\n",
       "    </tr>\n",
       "    <tr>\n",
       "      <th>8</th>\n",
       "      <td>0.000000</td>\n",
       "      <td>0</td>\n",
       "      <td>49.000000</td>\n",
       "    </tr>\n",
       "    <tr>\n",
       "      <th>9</th>\n",
       "      <td>0.000000</td>\n",
       "      <td>0</td>\n",
       "      <td>49.000000</td>\n",
       "    </tr>\n",
       "    <tr>\n",
       "      <th>10</th>\n",
       "      <td>0.000000</td>\n",
       "      <td>0</td>\n",
       "      <td>49.000000</td>\n",
       "    </tr>\n",
       "    <tr>\n",
       "      <th>11</th>\n",
       "      <td>6.196262</td>\n",
       "      <td>0</td>\n",
       "      <td>0.000000</td>\n",
       "    </tr>\n",
       "    <tr>\n",
       "      <th>12</th>\n",
       "      <td>34.086957</td>\n",
       "      <td>1</td>\n",
       "      <td>88.000000</td>\n",
       "    </tr>\n",
       "    <tr>\n",
       "      <th>13</th>\n",
       "      <td>22.625000</td>\n",
       "      <td>2</td>\n",
       "      <td>88.666667</td>\n",
       "    </tr>\n",
       "    <tr>\n",
       "      <th>14</th>\n",
       "      <td>20.208333</td>\n",
       "      <td>1</td>\n",
       "      <td>88.000000</td>\n",
       "    </tr>\n",
       "    <tr>\n",
       "      <th>15</th>\n",
       "      <td>29.416667</td>\n",
       "      <td>2</td>\n",
       "      <td>88.666667</td>\n",
       "    </tr>\n",
       "    <tr>\n",
       "      <th>16</th>\n",
       "      <td>19.583333</td>\n",
       "      <td>0</td>\n",
       "      <td>88.666667</td>\n",
       "    </tr>\n",
       "    <tr>\n",
       "      <th>17</th>\n",
       "      <td>26.708333</td>\n",
       "      <td>2</td>\n",
       "      <td>87.875000</td>\n",
       "    </tr>\n",
       "    <tr>\n",
       "      <th>18</th>\n",
       "      <td>12.791667</td>\n",
       "      <td>0</td>\n",
       "      <td>87.875000</td>\n",
       "    </tr>\n",
       "    <tr>\n",
       "      <th>19</th>\n",
       "      <td>13.666667</td>\n",
       "      <td>2</td>\n",
       "      <td>87.800000</td>\n",
       "    </tr>\n",
       "  </tbody>\n",
       "</table>\n",
       "</div>"
      ],
      "text/plain": [
       "    Avg_Clicks  Asgmts  Avg_Asgmt_Score\n",
       "0     2.159091       0         0.000000\n",
       "1    23.260870       1        70.000000\n",
       "2     0.708333       0        70.000000\n",
       "3     0.708333       0        70.000000\n",
       "4     6.958333       0        70.000000\n",
       "5     1.208333       1        49.000000\n",
       "6     0.000000       0        49.000000\n",
       "7     0.000000       0        49.000000\n",
       "8     0.000000       0        49.000000\n",
       "9     0.000000       0        49.000000\n",
       "10    0.000000       0        49.000000\n",
       "11    6.196262       0         0.000000\n",
       "12   34.086957       1        88.000000\n",
       "13   22.625000       2        88.666667\n",
       "14   20.208333       1        88.000000\n",
       "15   29.416667       2        88.666667\n",
       "16   19.583333       0        88.666667\n",
       "17   26.708333       2        87.875000\n",
       "18   12.791667       0        87.875000\n",
       "19   13.666667       2        87.800000"
      ]
     },
     "execution_count": 7,
     "metadata": {},
     "output_type": "execute_result"
    }
   ],
   "source": [
    "FFF_Train_df.head(n=20)"
   ]
  },
  {
   "cell_type": "code",
   "execution_count": 8,
   "metadata": {},
   "outputs": [
    {
     "data": {
      "text/html": [
       "<div>\n",
       "<style scoped>\n",
       "    .dataframe tbody tr th:only-of-type {\n",
       "        vertical-align: middle;\n",
       "    }\n",
       "\n",
       "    .dataframe tbody tr th {\n",
       "        vertical-align: top;\n",
       "    }\n",
       "\n",
       "    .dataframe thead th {\n",
       "        text-align: right;\n",
       "    }\n",
       "</style>\n",
       "<table border=\"1\" class=\"dataframe\">\n",
       "  <thead>\n",
       "    <tr style=\"text-align: right;\">\n",
       "      <th></th>\n",
       "      <th>num_of_prev_attempts</th>\n",
       "      <th>studied_credits</th>\n",
       "      <th>gender_M</th>\n",
       "      <th>gender_F</th>\n",
       "      <th>highest_education_A Level or Equivalent</th>\n",
       "      <th>highest_education_Lower Than A Level</th>\n",
       "      <th>highest_education_HE Qualification</th>\n",
       "      <th>highest_education_No Formal quals</th>\n",
       "      <th>highest_education_Post Graduate Qualification</th>\n",
       "      <th>imd_band_20-30%</th>\n",
       "      <th>...</th>\n",
       "      <th>imd_band_0-10%</th>\n",
       "      <th>age_band_35-55</th>\n",
       "      <th>age_band_0-35</th>\n",
       "      <th>age_band_55&lt;=</th>\n",
       "      <th>disability_N</th>\n",
       "      <th>disability_Y</th>\n",
       "      <th>year_2013</th>\n",
       "      <th>year_2014</th>\n",
       "      <th>semester_B</th>\n",
       "      <th>semester_J</th>\n",
       "    </tr>\n",
       "  </thead>\n",
       "  <tbody>\n",
       "    <tr>\n",
       "      <th>1</th>\n",
       "      <td>0</td>\n",
       "      <td>120</td>\n",
       "      <td>1</td>\n",
       "      <td>0</td>\n",
       "      <td>1</td>\n",
       "      <td>0</td>\n",
       "      <td>0</td>\n",
       "      <td>0</td>\n",
       "      <td>0</td>\n",
       "      <td>1</td>\n",
       "      <td>...</td>\n",
       "      <td>0</td>\n",
       "      <td>1</td>\n",
       "      <td>0</td>\n",
       "      <td>0</td>\n",
       "      <td>1</td>\n",
       "      <td>0</td>\n",
       "      <td>1</td>\n",
       "      <td>0</td>\n",
       "      <td>1</td>\n",
       "      <td>0</td>\n",
       "    </tr>\n",
       "    <tr>\n",
       "      <th>2</th>\n",
       "      <td>0</td>\n",
       "      <td>60</td>\n",
       "      <td>1</td>\n",
       "      <td>0</td>\n",
       "      <td>1</td>\n",
       "      <td>0</td>\n",
       "      <td>0</td>\n",
       "      <td>0</td>\n",
       "      <td>0</td>\n",
       "      <td>0</td>\n",
       "      <td>...</td>\n",
       "      <td>0</td>\n",
       "      <td>1</td>\n",
       "      <td>0</td>\n",
       "      <td>0</td>\n",
       "      <td>1</td>\n",
       "      <td>0</td>\n",
       "      <td>1</td>\n",
       "      <td>0</td>\n",
       "      <td>1</td>\n",
       "      <td>0</td>\n",
       "    </tr>\n",
       "    <tr>\n",
       "      <th>3</th>\n",
       "      <td>0</td>\n",
       "      <td>60</td>\n",
       "      <td>1</td>\n",
       "      <td>0</td>\n",
       "      <td>0</td>\n",
       "      <td>1</td>\n",
       "      <td>0</td>\n",
       "      <td>0</td>\n",
       "      <td>0</td>\n",
       "      <td>0</td>\n",
       "      <td>...</td>\n",
       "      <td>0</td>\n",
       "      <td>1</td>\n",
       "      <td>0</td>\n",
       "      <td>0</td>\n",
       "      <td>1</td>\n",
       "      <td>0</td>\n",
       "      <td>1</td>\n",
       "      <td>0</td>\n",
       "      <td>1</td>\n",
       "      <td>0</td>\n",
       "    </tr>\n",
       "    <tr>\n",
       "      <th>4</th>\n",
       "      <td>0</td>\n",
       "      <td>60</td>\n",
       "      <td>0</td>\n",
       "      <td>1</td>\n",
       "      <td>1</td>\n",
       "      <td>0</td>\n",
       "      <td>0</td>\n",
       "      <td>0</td>\n",
       "      <td>0</td>\n",
       "      <td>0</td>\n",
       "      <td>...</td>\n",
       "      <td>0</td>\n",
       "      <td>1</td>\n",
       "      <td>0</td>\n",
       "      <td>0</td>\n",
       "      <td>1</td>\n",
       "      <td>0</td>\n",
       "      <td>1</td>\n",
       "      <td>0</td>\n",
       "      <td>1</td>\n",
       "      <td>0</td>\n",
       "    </tr>\n",
       "    <tr>\n",
       "      <th>5</th>\n",
       "      <td>0</td>\n",
       "      <td>60</td>\n",
       "      <td>0</td>\n",
       "      <td>1</td>\n",
       "      <td>0</td>\n",
       "      <td>0</td>\n",
       "      <td>1</td>\n",
       "      <td>0</td>\n",
       "      <td>0</td>\n",
       "      <td>0</td>\n",
       "      <td>...</td>\n",
       "      <td>0</td>\n",
       "      <td>1</td>\n",
       "      <td>0</td>\n",
       "      <td>0</td>\n",
       "      <td>1</td>\n",
       "      <td>0</td>\n",
       "      <td>1</td>\n",
       "      <td>0</td>\n",
       "      <td>1</td>\n",
       "      <td>0</td>\n",
       "    </tr>\n",
       "    <tr>\n",
       "      <th>6</th>\n",
       "      <td>1</td>\n",
       "      <td>60</td>\n",
       "      <td>1</td>\n",
       "      <td>0</td>\n",
       "      <td>1</td>\n",
       "      <td>0</td>\n",
       "      <td>0</td>\n",
       "      <td>0</td>\n",
       "      <td>0</td>\n",
       "      <td>0</td>\n",
       "      <td>...</td>\n",
       "      <td>0</td>\n",
       "      <td>1</td>\n",
       "      <td>0</td>\n",
       "      <td>0</td>\n",
       "      <td>1</td>\n",
       "      <td>0</td>\n",
       "      <td>1</td>\n",
       "      <td>0</td>\n",
       "      <td>1</td>\n",
       "      <td>0</td>\n",
       "    </tr>\n",
       "    <tr>\n",
       "      <th>7</th>\n",
       "      <td>1</td>\n",
       "      <td>150</td>\n",
       "      <td>1</td>\n",
       "      <td>0</td>\n",
       "      <td>1</td>\n",
       "      <td>0</td>\n",
       "      <td>0</td>\n",
       "      <td>0</td>\n",
       "      <td>0</td>\n",
       "      <td>0</td>\n",
       "      <td>...</td>\n",
       "      <td>0</td>\n",
       "      <td>1</td>\n",
       "      <td>0</td>\n",
       "      <td>0</td>\n",
       "      <td>1</td>\n",
       "      <td>0</td>\n",
       "      <td>1</td>\n",
       "      <td>0</td>\n",
       "      <td>1</td>\n",
       "      <td>0</td>\n",
       "    </tr>\n",
       "    <tr>\n",
       "      <th>8</th>\n",
       "      <td>0</td>\n",
       "      <td>90</td>\n",
       "      <td>1</td>\n",
       "      <td>0</td>\n",
       "      <td>0</td>\n",
       "      <td>0</td>\n",
       "      <td>1</td>\n",
       "      <td>0</td>\n",
       "      <td>0</td>\n",
       "      <td>0</td>\n",
       "      <td>...</td>\n",
       "      <td>0</td>\n",
       "      <td>1</td>\n",
       "      <td>0</td>\n",
       "      <td>0</td>\n",
       "      <td>1</td>\n",
       "      <td>0</td>\n",
       "      <td>1</td>\n",
       "      <td>0</td>\n",
       "      <td>1</td>\n",
       "      <td>0</td>\n",
       "    </tr>\n",
       "    <tr>\n",
       "      <th>9</th>\n",
       "      <td>1</td>\n",
       "      <td>310</td>\n",
       "      <td>1</td>\n",
       "      <td>0</td>\n",
       "      <td>0</td>\n",
       "      <td>1</td>\n",
       "      <td>0</td>\n",
       "      <td>0</td>\n",
       "      <td>0</td>\n",
       "      <td>0</td>\n",
       "      <td>...</td>\n",
       "      <td>0</td>\n",
       "      <td>0</td>\n",
       "      <td>1</td>\n",
       "      <td>0</td>\n",
       "      <td>1</td>\n",
       "      <td>0</td>\n",
       "      <td>1</td>\n",
       "      <td>0</td>\n",
       "      <td>1</td>\n",
       "      <td>0</td>\n",
       "    </tr>\n",
       "    <tr>\n",
       "      <th>10</th>\n",
       "      <td>1</td>\n",
       "      <td>150</td>\n",
       "      <td>1</td>\n",
       "      <td>0</td>\n",
       "      <td>0</td>\n",
       "      <td>0</td>\n",
       "      <td>1</td>\n",
       "      <td>0</td>\n",
       "      <td>0</td>\n",
       "      <td>0</td>\n",
       "      <td>...</td>\n",
       "      <td>0</td>\n",
       "      <td>0</td>\n",
       "      <td>1</td>\n",
       "      <td>0</td>\n",
       "      <td>1</td>\n",
       "      <td>0</td>\n",
       "      <td>1</td>\n",
       "      <td>0</td>\n",
       "      <td>1</td>\n",
       "      <td>0</td>\n",
       "    </tr>\n",
       "    <tr>\n",
       "      <th>11</th>\n",
       "      <td>1</td>\n",
       "      <td>60</td>\n",
       "      <td>1</td>\n",
       "      <td>0</td>\n",
       "      <td>0</td>\n",
       "      <td>0</td>\n",
       "      <td>1</td>\n",
       "      <td>0</td>\n",
       "      <td>0</td>\n",
       "      <td>0</td>\n",
       "      <td>...</td>\n",
       "      <td>0</td>\n",
       "      <td>1</td>\n",
       "      <td>0</td>\n",
       "      <td>0</td>\n",
       "      <td>1</td>\n",
       "      <td>0</td>\n",
       "      <td>1</td>\n",
       "      <td>0</td>\n",
       "      <td>1</td>\n",
       "      <td>0</td>\n",
       "    </tr>\n",
       "    <tr>\n",
       "      <th>12</th>\n",
       "      <td>0</td>\n",
       "      <td>60</td>\n",
       "      <td>1</td>\n",
       "      <td>0</td>\n",
       "      <td>1</td>\n",
       "      <td>0</td>\n",
       "      <td>0</td>\n",
       "      <td>0</td>\n",
       "      <td>0</td>\n",
       "      <td>0</td>\n",
       "      <td>...</td>\n",
       "      <td>0</td>\n",
       "      <td>1</td>\n",
       "      <td>0</td>\n",
       "      <td>0</td>\n",
       "      <td>1</td>\n",
       "      <td>0</td>\n",
       "      <td>1</td>\n",
       "      <td>0</td>\n",
       "      <td>1</td>\n",
       "      <td>0</td>\n",
       "    </tr>\n",
       "    <tr>\n",
       "      <th>13</th>\n",
       "      <td>0</td>\n",
       "      <td>60</td>\n",
       "      <td>1</td>\n",
       "      <td>0</td>\n",
       "      <td>0</td>\n",
       "      <td>1</td>\n",
       "      <td>0</td>\n",
       "      <td>0</td>\n",
       "      <td>0</td>\n",
       "      <td>0</td>\n",
       "      <td>...</td>\n",
       "      <td>0</td>\n",
       "      <td>0</td>\n",
       "      <td>1</td>\n",
       "      <td>0</td>\n",
       "      <td>1</td>\n",
       "      <td>0</td>\n",
       "      <td>1</td>\n",
       "      <td>0</td>\n",
       "      <td>1</td>\n",
       "      <td>0</td>\n",
       "    </tr>\n",
       "    <tr>\n",
       "      <th>14</th>\n",
       "      <td>0</td>\n",
       "      <td>60</td>\n",
       "      <td>1</td>\n",
       "      <td>0</td>\n",
       "      <td>0</td>\n",
       "      <td>1</td>\n",
       "      <td>0</td>\n",
       "      <td>0</td>\n",
       "      <td>0</td>\n",
       "      <td>0</td>\n",
       "      <td>...</td>\n",
       "      <td>0</td>\n",
       "      <td>0</td>\n",
       "      <td>1</td>\n",
       "      <td>0</td>\n",
       "      <td>1</td>\n",
       "      <td>0</td>\n",
       "      <td>1</td>\n",
       "      <td>0</td>\n",
       "      <td>1</td>\n",
       "      <td>0</td>\n",
       "    </tr>\n",
       "    <tr>\n",
       "      <th>15</th>\n",
       "      <td>0</td>\n",
       "      <td>60</td>\n",
       "      <td>1</td>\n",
       "      <td>0</td>\n",
       "      <td>0</td>\n",
       "      <td>0</td>\n",
       "      <td>1</td>\n",
       "      <td>0</td>\n",
       "      <td>0</td>\n",
       "      <td>0</td>\n",
       "      <td>...</td>\n",
       "      <td>0</td>\n",
       "      <td>1</td>\n",
       "      <td>0</td>\n",
       "      <td>0</td>\n",
       "      <td>1</td>\n",
       "      <td>0</td>\n",
       "      <td>1</td>\n",
       "      <td>0</td>\n",
       "      <td>1</td>\n",
       "      <td>0</td>\n",
       "    </tr>\n",
       "    <tr>\n",
       "      <th>16</th>\n",
       "      <td>0</td>\n",
       "      <td>60</td>\n",
       "      <td>1</td>\n",
       "      <td>0</td>\n",
       "      <td>1</td>\n",
       "      <td>0</td>\n",
       "      <td>0</td>\n",
       "      <td>0</td>\n",
       "      <td>0</td>\n",
       "      <td>0</td>\n",
       "      <td>...</td>\n",
       "      <td>0</td>\n",
       "      <td>1</td>\n",
       "      <td>0</td>\n",
       "      <td>0</td>\n",
       "      <td>1</td>\n",
       "      <td>0</td>\n",
       "      <td>1</td>\n",
       "      <td>0</td>\n",
       "      <td>1</td>\n",
       "      <td>0</td>\n",
       "    </tr>\n",
       "    <tr>\n",
       "      <th>17</th>\n",
       "      <td>0</td>\n",
       "      <td>60</td>\n",
       "      <td>1</td>\n",
       "      <td>0</td>\n",
       "      <td>1</td>\n",
       "      <td>0</td>\n",
       "      <td>0</td>\n",
       "      <td>0</td>\n",
       "      <td>0</td>\n",
       "      <td>0</td>\n",
       "      <td>...</td>\n",
       "      <td>0</td>\n",
       "      <td>0</td>\n",
       "      <td>1</td>\n",
       "      <td>0</td>\n",
       "      <td>1</td>\n",
       "      <td>0</td>\n",
       "      <td>1</td>\n",
       "      <td>0</td>\n",
       "      <td>1</td>\n",
       "      <td>0</td>\n",
       "    </tr>\n",
       "    <tr>\n",
       "      <th>18</th>\n",
       "      <td>1</td>\n",
       "      <td>120</td>\n",
       "      <td>1</td>\n",
       "      <td>0</td>\n",
       "      <td>0</td>\n",
       "      <td>0</td>\n",
       "      <td>1</td>\n",
       "      <td>0</td>\n",
       "      <td>0</td>\n",
       "      <td>0</td>\n",
       "      <td>...</td>\n",
       "      <td>0</td>\n",
       "      <td>1</td>\n",
       "      <td>0</td>\n",
       "      <td>0</td>\n",
       "      <td>1</td>\n",
       "      <td>0</td>\n",
       "      <td>1</td>\n",
       "      <td>0</td>\n",
       "      <td>1</td>\n",
       "      <td>0</td>\n",
       "    </tr>\n",
       "    <tr>\n",
       "      <th>19</th>\n",
       "      <td>0</td>\n",
       "      <td>60</td>\n",
       "      <td>1</td>\n",
       "      <td>0</td>\n",
       "      <td>1</td>\n",
       "      <td>0</td>\n",
       "      <td>0</td>\n",
       "      <td>0</td>\n",
       "      <td>0</td>\n",
       "      <td>0</td>\n",
       "      <td>...</td>\n",
       "      <td>0</td>\n",
       "      <td>1</td>\n",
       "      <td>0</td>\n",
       "      <td>0</td>\n",
       "      <td>1</td>\n",
       "      <td>0</td>\n",
       "      <td>1</td>\n",
       "      <td>0</td>\n",
       "      <td>1</td>\n",
       "      <td>0</td>\n",
       "    </tr>\n",
       "    <tr>\n",
       "      <th>20</th>\n",
       "      <td>0</td>\n",
       "      <td>60</td>\n",
       "      <td>0</td>\n",
       "      <td>1</td>\n",
       "      <td>0</td>\n",
       "      <td>1</td>\n",
       "      <td>0</td>\n",
       "      <td>0</td>\n",
       "      <td>0</td>\n",
       "      <td>1</td>\n",
       "      <td>...</td>\n",
       "      <td>0</td>\n",
       "      <td>1</td>\n",
       "      <td>0</td>\n",
       "      <td>0</td>\n",
       "      <td>1</td>\n",
       "      <td>0</td>\n",
       "      <td>1</td>\n",
       "      <td>0</td>\n",
       "      <td>1</td>\n",
       "      <td>0</td>\n",
       "    </tr>\n",
       "  </tbody>\n",
       "</table>\n",
       "<p>20 rows × 29 columns</p>\n",
       "</div>"
      ],
      "text/plain": [
       "    num_of_prev_attempts  studied_credits  gender_M  gender_F  \\\n",
       "1                      0              120         1         0   \n",
       "2                      0               60         1         0   \n",
       "3                      0               60         1         0   \n",
       "4                      0               60         0         1   \n",
       "5                      0               60         0         1   \n",
       "6                      1               60         1         0   \n",
       "7                      1              150         1         0   \n",
       "8                      0               90         1         0   \n",
       "9                      1              310         1         0   \n",
       "10                     1              150         1         0   \n",
       "11                     1               60         1         0   \n",
       "12                     0               60         1         0   \n",
       "13                     0               60         1         0   \n",
       "14                     0               60         1         0   \n",
       "15                     0               60         1         0   \n",
       "16                     0               60         1         0   \n",
       "17                     0               60         1         0   \n",
       "18                     1              120         1         0   \n",
       "19                     0               60         1         0   \n",
       "20                     0               60         0         1   \n",
       "\n",
       "    highest_education_A Level or Equivalent  \\\n",
       "1                                         1   \n",
       "2                                         1   \n",
       "3                                         0   \n",
       "4                                         1   \n",
       "5                                         0   \n",
       "6                                         1   \n",
       "7                                         1   \n",
       "8                                         0   \n",
       "9                                         0   \n",
       "10                                        0   \n",
       "11                                        0   \n",
       "12                                        1   \n",
       "13                                        0   \n",
       "14                                        0   \n",
       "15                                        0   \n",
       "16                                        1   \n",
       "17                                        1   \n",
       "18                                        0   \n",
       "19                                        1   \n",
       "20                                        0   \n",
       "\n",
       "    highest_education_Lower Than A Level  highest_education_HE Qualification  \\\n",
       "1                                      0                                   0   \n",
       "2                                      0                                   0   \n",
       "3                                      1                                   0   \n",
       "4                                      0                                   0   \n",
       "5                                      0                                   1   \n",
       "6                                      0                                   0   \n",
       "7                                      0                                   0   \n",
       "8                                      0                                   1   \n",
       "9                                      1                                   0   \n",
       "10                                     0                                   1   \n",
       "11                                     0                                   1   \n",
       "12                                     0                                   0   \n",
       "13                                     1                                   0   \n",
       "14                                     1                                   0   \n",
       "15                                     0                                   1   \n",
       "16                                     0                                   0   \n",
       "17                                     0                                   0   \n",
       "18                                     0                                   1   \n",
       "19                                     0                                   0   \n",
       "20                                     1                                   0   \n",
       "\n",
       "    highest_education_No Formal quals  \\\n",
       "1                                   0   \n",
       "2                                   0   \n",
       "3                                   0   \n",
       "4                                   0   \n",
       "5                                   0   \n",
       "6                                   0   \n",
       "7                                   0   \n",
       "8                                   0   \n",
       "9                                   0   \n",
       "10                                  0   \n",
       "11                                  0   \n",
       "12                                  0   \n",
       "13                                  0   \n",
       "14                                  0   \n",
       "15                                  0   \n",
       "16                                  0   \n",
       "17                                  0   \n",
       "18                                  0   \n",
       "19                                  0   \n",
       "20                                  0   \n",
       "\n",
       "    highest_education_Post Graduate Qualification  imd_band_20-30%  \\\n",
       "1                                               0                1   \n",
       "2                                               0                0   \n",
       "3                                               0                0   \n",
       "4                                               0                0   \n",
       "5                                               0                0   \n",
       "6                                               0                0   \n",
       "7                                               0                0   \n",
       "8                                               0                0   \n",
       "9                                               0                0   \n",
       "10                                              0                0   \n",
       "11                                              0                0   \n",
       "12                                              0                0   \n",
       "13                                              0                0   \n",
       "14                                              0                0   \n",
       "15                                              0                0   \n",
       "16                                              0                0   \n",
       "17                                              0                0   \n",
       "18                                              0                0   \n",
       "19                                              0                0   \n",
       "20                                              0                1   \n",
       "\n",
       "       ...      imd_band_0-10%  age_band_35-55  age_band_0-35  age_band_55<=  \\\n",
       "1      ...                   0               1              0              0   \n",
       "2      ...                   0               1              0              0   \n",
       "3      ...                   0               1              0              0   \n",
       "4      ...                   0               1              0              0   \n",
       "5      ...                   0               1              0              0   \n",
       "6      ...                   0               1              0              0   \n",
       "7      ...                   0               1              0              0   \n",
       "8      ...                   0               1              0              0   \n",
       "9      ...                   0               0              1              0   \n",
       "10     ...                   0               0              1              0   \n",
       "11     ...                   0               1              0              0   \n",
       "12     ...                   0               1              0              0   \n",
       "13     ...                   0               0              1              0   \n",
       "14     ...                   0               0              1              0   \n",
       "15     ...                   0               1              0              0   \n",
       "16     ...                   0               1              0              0   \n",
       "17     ...                   0               0              1              0   \n",
       "18     ...                   0               1              0              0   \n",
       "19     ...                   0               1              0              0   \n",
       "20     ...                   0               1              0              0   \n",
       "\n",
       "    disability_N  disability_Y  year_2013  year_2014  semester_B  semester_J  \n",
       "1              1             0          1          0           1           0  \n",
       "2              1             0          1          0           1           0  \n",
       "3              1             0          1          0           1           0  \n",
       "4              1             0          1          0           1           0  \n",
       "5              1             0          1          0           1           0  \n",
       "6              1             0          1          0           1           0  \n",
       "7              1             0          1          0           1           0  \n",
       "8              1             0          1          0           1           0  \n",
       "9              1             0          1          0           1           0  \n",
       "10             1             0          1          0           1           0  \n",
       "11             1             0          1          0           1           0  \n",
       "12             1             0          1          0           1           0  \n",
       "13             1             0          1          0           1           0  \n",
       "14             1             0          1          0           1           0  \n",
       "15             1             0          1          0           1           0  \n",
       "16             1             0          1          0           1           0  \n",
       "17             1             0          1          0           1           0  \n",
       "18             1             0          1          0           1           0  \n",
       "19             1             0          1          0           1           0  \n",
       "20             1             0          1          0           1           0  \n",
       "\n",
       "[20 rows x 29 columns]"
      ]
     },
     "execution_count": 8,
     "metadata": {},
     "output_type": "execute_result"
    }
   ],
   "source": [
    "FFF_AUX_Train.head(n=20)"
   ]
  },
  {
   "cell_type": "code",
   "execution_count": null,
   "metadata": {
    "collapsed": true
   },
   "outputs": [],
   "source": []
  },
  {
   "cell_type": "code",
   "execution_count": 9,
   "metadata": {
    "collapsed": true
   },
   "outputs": [],
   "source": [
    "#BBB_AUX_Train = BBB_AUX_Train.drop(columns = [\"num_of_prev_attempts\", \"gender_M\", \"gender_F\", \"disability_N\", \"disability_Y\", \"year_2013\", \"year_2014\", \"semester_B\", \"semester_J\"])\n",
    "#DDD_AUX_Train = DDD_AUX_Train.drop(columns = [\"num_of_prev_attempts\", \"gender_M\", \"gender_F\", \"disability_N\", \"disability_Y\", \"year_2013\", \"year_2014\", \"semester_B\", \"semester_J\"])\n",
    "#FFF_AUX_Train = FFF_AUX_Train.drop(columns = [\"num_of_prev_attempts\", \"gender_M\", \"gender_F\", \"disability_N\", \"disability_Y\", \"year_2013\", \"year_2014\", \"semester_B\", \"semester_J\"])\n",
    "\n",
    "#BBB_AUX_Test = BBB_AUX_Test.drop(columns = [\"num_of_prev_attempts\", \"gender_M\", \"gender_F\", \"disability_N\", \"disability_Y\", \"year_2013\", \"year_2014\", \"semester_B\", \"semester_J\"])\n",
    "#DDD_AUX_Test = DDD_AUX_Test.drop(columns = [\"num_of_prev_attempts\", \"gender_M\", \"gender_F\", \"disability_N\", \"disability_Y\", \"year_2013\", \"year_2014\", \"semester_B\", \"semester_J\"])\n",
    "#FFF_AUX_Test = FFF_AUX_Test.drop(columns = [\"num_of_prev_attempts\", \"gender_M\", \"gender_F\", \"disability_N\", \"disability_Y\", \"year_2013\", \"year_2014\", \"semester_B\", \"semester_J\"])"
   ]
  },
  {
   "cell_type": "code",
   "execution_count": 10,
   "metadata": {
    "collapsed": true
   },
   "outputs": [],
   "source": [
    "BBB_AUX_Train = np.array(BBB_AUX_Train)\n",
    "DDD_AUX_Train = np.array(DDD_AUX_Train)\n",
    "FFF_AUX_Train = np.array(FFF_AUX_Train)\n",
    "\n",
    "BBB_AUX_Test = np.array(BBB_AUX_Test)\n",
    "DDD_AUX_Test = np.array(DDD_AUX_Test)\n",
    "FFF_AUX_Test = np.array(FFF_AUX_Test)"
   ]
  },
  {
   "cell_type": "code",
   "execution_count": 11,
   "metadata": {},
   "outputs": [
    {
     "data": {
      "text/plain": [
       "(3978, 29)"
      ]
     },
     "execution_count": 11,
     "metadata": {},
     "output_type": "execute_result"
    }
   ],
   "source": [
    "BBB_AUX_Train.shape"
   ]
  },
  {
   "cell_type": "markdown",
   "metadata": {},
   "source": [
    "Number of students in the courses across all 4 semesters"
   ]
  },
  {
   "cell_type": "code",
   "execution_count": 12,
   "metadata": {},
   "outputs": [
    {
     "name": "stdout",
     "output_type": "stream",
     "text": [
      "BBB Train\n",
      "\n",
      "Avg_Clicks         3978.0\n",
      "Asgmts             3978.0\n",
      "Avg_Asgmt_Score    3978.0\n",
      "dtype: float64 \n",
      "\n",
      "DDD Train\n",
      "\n",
      "Avg_Clicks         2866.0\n",
      "Asgmts             2866.0\n",
      "Avg_Asgmt_Score    2866.0\n",
      "dtype: float64 \n",
      "\n",
      "FFF Train\n",
      "\n",
      "Avg_Clicks         3849.0\n",
      "Asgmts             3849.0\n",
      "Avg_Asgmt_Score    3849.0\n",
      "dtype: float64 \n",
      "\n",
      "BBB Test\n",
      "\n",
      "Avg_Clicks         1543.0\n",
      "Asgmts             1543.0\n",
      "Avg_Asgmt_Score    1543.0\n",
      "dtype: float64 \n",
      "\n",
      "DDD Test\n",
      "\n",
      "Avg_Clicks         1156.0\n",
      "Asgmts             1156.0\n",
      "Avg_Asgmt_Score    1156.0\n",
      "dtype: float64 \n",
      "\n",
      "FFF Test\n",
      "\n",
      "Avg_Clicks         1510.0\n",
      "Asgmts             1510.0\n",
      "Avg_Asgmt_Score    1510.0\n",
      "dtype: float64 \n",
      "\n"
     ]
    }
   ],
   "source": [
    "print(\"BBB Train\\n\")\n",
    "print(BBB_Train_df.count()/11,\"\\n\")\n",
    "\n",
    "print(\"DDD Train\\n\")\n",
    "print(DDD_Train_df.count()/11,\"\\n\")\n",
    "\n",
    "print(\"FFF Train\\n\")\n",
    "print(FFF_Train_df.count()/11,\"\\n\")\n",
    "\n",
    "print(\"BBB Test\\n\")\n",
    "print(BBB_Test_df.count()/11,\"\\n\")\n",
    "\n",
    "print(\"DDD Test\\n\")\n",
    "print(DDD_Test_df.count()/11,\"\\n\")\n",
    "\n",
    "print(\"FFF Test\\n\")\n",
    "print(FFF_Test_df.count()/11,\"\\n\")"
   ]
  },
  {
   "cell_type": "markdown",
   "metadata": {},
   "source": [
    "Convert dataframes into 2D arrays"
   ]
  },
  {
   "cell_type": "code",
   "execution_count": 13,
   "metadata": {
    "collapsed": true
   },
   "outputs": [],
   "source": [
    "BBB_Train_2D = BBB_Train_df.values\n",
    "DDD_Train_2D = DDD_Train_df.values\n",
    "FFF_Train_2D = FFF_Train_df.values\n",
    "\n",
    "BBB_Test_2D = BBB_Test_df.values\n",
    "DDD_Test_2D = DDD_Test_df.values\n",
    "FFF_Test_2D = FFF_Test_df.values"
   ]
  },
  {
   "cell_type": "markdown",
   "metadata": {},
   "source": [
    "Reshape 2D arrays to 3D arrays\n",
    "Format : samples (students), timesteps (deciles), features (clicks & assignments)"
   ]
  },
  {
   "cell_type": "code",
   "execution_count": 14,
   "metadata": {
    "collapsed": true
   },
   "outputs": [],
   "source": [
    "BBB_Train_3D = BBB_Train_2D.reshape(int(BBB_Train_df[\"Asgmts\"].count()/11),11,len(BBB_Train_df.columns))\n",
    "DDD_Train_3D = DDD_Train_2D.reshape(int(DDD_Train_df[\"Asgmts\"].count()/11),11,len(DDD_Train_df.columns))\n",
    "FFF_Train_3D = FFF_Train_2D.reshape(int(FFF_Train_df[\"Asgmts\"].count()/11),11,len(FFF_Train_df.columns))\n",
    "\n",
    "BBB_Test_3D = BBB_Test_2D.reshape(int(BBB_Test_df[\"Asgmts\"].count()/11),11,len(BBB_Test_df.columns))\n",
    "DDD_Test_3D = DDD_Test_2D.reshape(int(DDD_Test_df[\"Asgmts\"].count()/11),11,len(DDD_Test_df.columns))\n",
    "FFF_Test_3D = FFF_Test_2D.reshape(int(FFF_Test_df[\"Asgmts\"].count()/11),11,len(FFF_Test_df.columns))\n"
   ]
  },
  {
   "cell_type": "code",
   "execution_count": 15,
   "metadata": {},
   "outputs": [
    {
     "data": {
      "text/plain": [
       "array([[[  2.15909091,   0.        ,   0.        ],\n",
       "        [ 23.26086957,   1.        ,  70.        ],\n",
       "        [  0.70833333,   0.        ,  70.        ],\n",
       "        ..., \n",
       "        [  0.        ,   0.        ,  49.        ],\n",
       "        [  0.        ,   0.        ,  49.        ],\n",
       "        [  0.        ,   0.        ,  49.        ]],\n",
       "\n",
       "       [[  6.19626168,   0.        ,   0.        ],\n",
       "        [ 34.08695652,   1.        ,  88.        ],\n",
       "        [ 22.625     ,   2.        ,  88.66666667],\n",
       "        ..., \n",
       "        [ 13.66666667,   2.        ,  87.8       ],\n",
       "        [ 15.875     ,   0.        ,  87.8       ],\n",
       "        [ 38.45833333,   2.        ,  88.91666667]],\n",
       "\n",
       "       [[  1.80952381,   0.        ,   0.        ],\n",
       "        [ 16.2173913 ,   1.        ,  76.        ],\n",
       "        [  8.66666667,   0.        ,  76.        ],\n",
       "        ..., \n",
       "        [  0.        ,   0.        ,  69.        ],\n",
       "        [  0.375     ,   0.        ,  69.        ],\n",
       "        [  0.        ,   0.        ,  69.        ]],\n",
       "\n",
       "       ..., \n",
       "       [[  2.88235294,   0.        ,   0.        ],\n",
       "        [  8.625     ,   0.        ,   0.        ],\n",
       "        [ 15.625     ,   1.        ,  84.        ],\n",
       "        ..., \n",
       "        [  7.83333333,   1.        ,  67.6       ],\n",
       "        [  4.79166667,   2.        ,  73.85714286],\n",
       "        [ 22.54166667,   1.        ,  75.25      ]],\n",
       "\n",
       "       [[  2.7826087 ,   0.        ,   0.        ],\n",
       "        [  5.41666667,   0.        ,   0.        ],\n",
       "        [  1.79166667,   1.        ,  98.        ],\n",
       "        ..., \n",
       "        [  4.16666667,   1.        ,  85.6       ],\n",
       "        [  0.66666667,   0.        ,  85.6       ],\n",
       "        [ 26.25      ,   7.        ,  85.66666667]],\n",
       "\n",
       "       [[  3.51351351,   0.        ,   0.        ],\n",
       "        [ 44.95833333,   3.        ,  98.        ],\n",
       "        [  3.83333333,   0.        ,  98.        ],\n",
       "        ..., \n",
       "        [  1.70833333,   1.        ,  91.75      ],\n",
       "        [  0.41666667,   0.        ,  91.75      ],\n",
       "        [  0.        ,   0.        ,  91.75      ]]])"
      ]
     },
     "execution_count": 15,
     "metadata": {},
     "output_type": "execute_result"
    }
   ],
   "source": [
    "FFF_Train_3D"
   ]
  },
  {
   "cell_type": "code",
   "execution_count": 16,
   "metadata": {},
   "outputs": [
    {
     "name": "stdout",
     "output_type": "stream",
     "text": [
      "(3849, 11, 3)\n"
     ]
    }
   ],
   "source": [
    "print(FFF_Train_3D.shape)"
   ]
  },
  {
   "cell_type": "code",
   "execution_count": 17,
   "metadata": {
    "collapsed": true
   },
   "outputs": [],
   "source": [
    "BBB_Train_Targets_1HE = np.array(pd.get_dummies(BBB_Train_Targets))\n",
    "DDD_Train_Targets_1HE = np.array(pd.get_dummies(DDD_Train_Targets))\n",
    "FFF_Train_Targets_1HE = np.array(pd.get_dummies(FFF_Train_Targets))\n",
    "\n",
    "BBB_Test_Targets_1HE = np.array(pd.get_dummies(BBB_Test_Targets))\n",
    "DDD_Test_Targets_1HE = np.array(pd.get_dummies(DDD_Test_Targets))\n",
    "FFF_Test_Targets_1HE = np.array(pd.get_dummies(FFF_Test_Targets))\n"
   ]
  },
  {
   "cell_type": "code",
   "execution_count": 18,
   "metadata": {
    "collapsed": true
   },
   "outputs": [],
   "source": [
    "BBB_Train_Targets_1D = np.array(BBB_Train_Targets)\n",
    "DDD_Train_Targets_1D = np.array(DDD_Train_Targets)\n",
    "FFF_Train_Targets_1D = np.array(FFF_Train_Targets)\n",
    "\n",
    "BBB_Test_Targets_1D = np.array(BBB_Test_Targets)\n",
    "DDD_Test_Targets_1D = np.array(DDD_Test_Targets)\n",
    "FFF_Test_Targets_1D = np.array(FFF_Test_Targets)"
   ]
  },
  {
   "cell_type": "code",
   "execution_count": 19,
   "metadata": {
    "collapsed": true
   },
   "outputs": [],
   "source": [
    "BBB_Train_Targets_1D[BBB_Train_Targets_1D == \"Fail\"] = 1\n",
    "BBB_Train_Targets_1D[BBB_Train_Targets_1D == \"Pass\"] = 2\n",
    "BBB_Train_Targets_1D[BBB_Train_Targets_1D == \"Distinction\"] = 0\n",
    "\n",
    "DDD_Train_Targets_1D[DDD_Train_Targets_1D == \"Fail\"] = 1\n",
    "DDD_Train_Targets_1D[DDD_Train_Targets_1D == \"Pass\"] = 2\n",
    "DDD_Train_Targets_1D[DDD_Train_Targets_1D == \"Distinction\"] = 0\n",
    "\n",
    "FFF_Train_Targets_1D[FFF_Train_Targets_1D == \"Fail\"] = 1\n",
    "FFF_Train_Targets_1D[FFF_Train_Targets_1D == \"Pass\"] = 2\n",
    "FFF_Train_Targets_1D[FFF_Train_Targets_1D == \"Distinction\"] = 0\n",
    "\n",
    "BBB_Test_Targets_1D[BBB_Test_Targets_1D == \"Fail\"] = 1\n",
    "BBB_Test_Targets_1D[BBB_Test_Targets_1D == \"Pass\"] = 2\n",
    "BBB_Test_Targets_1D[BBB_Test_Targets_1D == \"Distinction\"] = 0\n",
    "\n",
    "DDD_Test_Targets_1D[DDD_Test_Targets_1D == \"Fail\"] = 1\n",
    "DDD_Test_Targets_1D[DDD_Test_Targets_1D == \"Pass\"] = 2\n",
    "DDD_Test_Targets_1D[DDD_Test_Targets_1D == \"Distinction\"] = 0\n",
    "\n",
    "FFF_Test_Targets_1D[FFF_Test_Targets_1D == \"Fail\"] = 1\n",
    "FFF_Test_Targets_1D[FFF_Test_Targets_1D == \"Pass\"] = 2\n",
    "FFF_Test_Targets_1D[FFF_Test_Targets_1D == \"Distinction\"] = 0"
   ]
  },
  {
   "cell_type": "code",
   "execution_count": 20,
   "metadata": {
    "collapsed": true
   },
   "outputs": [],
   "source": [
    "BBB_Train_Targets_1D = BBB_Train_Targets_1D.astype('int64')\n",
    "DDD_Train_Targets_1D = DDD_Train_Targets_1D.astype('int64')\n",
    "FFF_Train_Targets_1D = FFF_Train_Targets_1D.astype('int64')\n",
    "\n",
    "BBB_Test_Targets_1D = BBB_Test_Targets_1D.astype('int64')\n",
    "DDD_Test_Targets_1D = DDD_Test_Targets_1D.astype('int64')\n",
    "FFF_Test_Targets_1D = FFF_Test_Targets_1D.astype('int64')"
   ]
  },
  {
   "cell_type": "code",
   "execution_count": null,
   "metadata": {
    "collapsed": true
   },
   "outputs": [],
   "source": []
  },
  {
   "cell_type": "code",
   "execution_count": 21,
   "metadata": {},
   "outputs": [
    {
     "data": {
      "text/plain": [
       "array([[0, 0, 1],\n",
       "       [1, 0, 0],\n",
       "       [0, 0, 1],\n",
       "       ..., \n",
       "       [0, 1, 0],\n",
       "       [0, 0, 1],\n",
       "       [0, 0, 1]], dtype=uint8)"
      ]
     },
     "execution_count": 21,
     "metadata": {},
     "output_type": "execute_result"
    }
   ],
   "source": [
    "BBB_Train_Targets_1HE"
   ]
  },
  {
   "cell_type": "code",
   "execution_count": null,
   "metadata": {
    "collapsed": true
   },
   "outputs": [],
   "source": []
  },
  {
   "cell_type": "code",
   "execution_count": 22,
   "metadata": {},
   "outputs": [
    {
     "name": "stdout",
     "output_type": "stream",
     "text": [
      "(3849,)\n"
     ]
    }
   ],
   "source": [
    "print(FFF_Train_Targets_1D.shape)"
   ]
  },
  {
   "cell_type": "code",
   "execution_count": 23,
   "metadata": {},
   "outputs": [
    {
     "data": {
      "text/plain": [
       "array([1, 2, 1, ..., 2, 2, 1], dtype=int64)"
      ]
     },
     "execution_count": 23,
     "metadata": {},
     "output_type": "execute_result"
    }
   ],
   "source": [
    "FFF_Train_Targets_1D"
   ]
  },
  {
   "cell_type": "code",
   "execution_count": null,
   "metadata": {
    "collapsed": true
   },
   "outputs": [],
   "source": []
  },
  {
   "cell_type": "code",
   "execution_count": null,
   "metadata": {
    "collapsed": true
   },
   "outputs": [],
   "source": []
  },
  {
   "cell_type": "code",
   "execution_count": null,
   "metadata": {
    "collapsed": true
   },
   "outputs": [],
   "source": []
  },
  {
   "cell_type": "code",
   "execution_count": null,
   "metadata": {
    "collapsed": true
   },
   "outputs": [],
   "source": []
  },
  {
   "cell_type": "markdown",
   "metadata": {},
   "source": [
    "# LSTM"
   ]
  },
  {
   "cell_type": "code",
   "execution_count": 24,
   "metadata": {
    "collapsed": true
   },
   "outputs": [],
   "source": [
    "from sklearn.metrics import classification_report\n",
    "from keras import Sequential\n",
    "from keras.layers import Input,Embedding, LSTM, Dense\n",
    "from keras.models import Model\n",
    "from keras.optimizers import SGD\n",
    "np.random.seed(7)\n",
    "#np.set_printoptions(threshold=np.nan)"
   ]
  },
  {
   "cell_type": "code",
   "execution_count": null,
   "metadata": {
    "collapsed": true
   },
   "outputs": [],
   "source": []
  },
  {
   "cell_type": "code",
   "execution_count": null,
   "metadata": {
    "collapsed": true
   },
   "outputs": [],
   "source": []
  },
  {
   "cell_type": "code",
   "execution_count": 27,
   "metadata": {
    "collapsed": true
   },
   "outputs": [],
   "source": [
    "LSTM_input = Input(shape=(11,3), name='LSTM_input')\n",
    "LSTM_out = LSTM(32)(LSTM_input)\n",
    "\n",
    "auxiliary_input = Input(shape=(29,), name='aux_input')\n",
    "auxiliary_layer = Dense(64, activation='relu')(auxiliary_input)\n",
    "auxiliary_output = Dense(32, activation='relu')(auxiliary_layer)\n",
    "\n",
    "x = keras.layers.concatenate([LSTM_out, auxiliary_output])\n",
    "\n",
    "x = Dense(64, activation='relu')(x)\n",
    "x = Dense(64, activation='relu')(x)\n",
    "x = Dense(64, activation='relu')(x)\n",
    "\n",
    "main_output = Dense(3, activation='softmax', name='main_output')(x)\n",
    "\n",
    "model = Model(inputs=[LSTM_input, auxiliary_input], outputs=main_output)\n",
    "model.compile(optimizer='rmsprop', loss='categorical_crossentropy',metrics = ['accuracy'])"
   ]
  },
  {
   "cell_type": "code",
   "execution_count": 103,
   "metadata": {
    "collapsed": true
   },
   "outputs": [],
   "source": [
    "#auxiliary_input = Input(shape=(29,), name='aux_input')\n",
    "#auxiliary_layer = Dense(64, activation='relu')(auxiliary_input)\n",
    "#auxiliary_output = Dense(32, activation='relu')(auxiliary_layer)\n",
    "\n",
    "#main_output = Dense(3, activation='softmax', name='main_output')(auxiliary_output)\n",
    "\n",
    "#model = Model(inputs=auxiliary_input, outputs=main_output)\n",
    "#model.compile(optimizer='rmsprop', loss='categorical_crossentropy',metrics = ['accuracy'])"
   ]
  },
  {
   "cell_type": "code",
   "execution_count": 79,
   "metadata": {},
   "outputs": [
    {
     "data": {
      "text/plain": [
       "<tf.Tensor 'lstm_14/TensorArrayReadV3:0' shape=(?, 32) dtype=float32>"
      ]
     },
     "execution_count": 79,
     "metadata": {},
     "output_type": "execute_result"
    }
   ],
   "source": []
  },
  {
   "cell_type": "markdown",
   "metadata": {},
   "source": [
    "# LSTM Course BBB"
   ]
  },
  {
   "cell_type": "markdown",
   "metadata": {},
   "source": [
    "### Train LSTM Course BBB"
   ]
  },
  {
   "cell_type": "code",
   "execution_count": null,
   "metadata": {
    "collapsed": true
   },
   "outputs": [],
   "source": []
  },
  {
   "cell_type": "code",
   "execution_count": 64,
   "metadata": {},
   "outputs": [
    {
     "name": "stdout",
     "output_type": "stream",
     "text": [
      "Epoch 1/20\n",
      "3978/3978 [==============================] - 2s 519us/step - loss: 1.3343 - acc: 0.4837\n",
      "Epoch 2/20\n",
      "3978/3978 [==============================] - 1s 221us/step - loss: 0.9199 - acc: 0.5882\n",
      "Epoch 3/20\n",
      "3978/3978 [==============================] - 1s 211us/step - loss: 0.7821 - acc: 0.6518\n",
      "Epoch 4/20\n",
      "3978/3978 [==============================] - 1s 235us/step - loss: 0.6934 - acc: 0.6978\n",
      "Epoch 5/20\n",
      "3978/3978 [==============================] - 1s 225us/step - loss: 0.6469 - acc: 0.7270\n",
      "Epoch 6/20\n",
      "3978/3978 [==============================] - 1s 239us/step - loss: 0.6096 - acc: 0.7443\n",
      "Epoch 7/20\n",
      "3978/3978 [==============================] - 1s 232us/step - loss: 0.6032 - acc: 0.7401\n",
      "Epoch 8/20\n",
      "3978/3978 [==============================] - 1s 222us/step - loss: 0.5798 - acc: 0.7481\n",
      "Epoch 9/20\n",
      "3978/3978 [==============================] - 1s 214us/step - loss: 0.5711 - acc: 0.7539\n",
      "Epoch 10/20\n",
      "3978/3978 [==============================] - 1s 202us/step - loss: 0.5549 - acc: 0.7624\n",
      "Epoch 11/20\n",
      "3978/3978 [==============================] - 1s 213us/step - loss: 0.5514 - acc: 0.7624\n",
      "Epoch 12/20\n",
      "3978/3978 [==============================] - 1s 209us/step - loss: 0.5458 - acc: 0.7650\n",
      "Epoch 13/20\n",
      "3978/3978 [==============================] - 1s 219us/step - loss: 0.5332 - acc: 0.7697\n",
      "Epoch 14/20\n",
      "3978/3978 [==============================] - 1s 215us/step - loss: 0.5379 - acc: 0.7753\n",
      "Epoch 15/20\n",
      "3978/3978 [==============================] - 1s 212us/step - loss: 0.5285 - acc: 0.7675\n",
      "Epoch 16/20\n",
      "3978/3978 [==============================] - 1s 210us/step - loss: 0.5314 - acc: 0.7717\n",
      "Epoch 17/20\n",
      "3978/3978 [==============================] - 1s 220us/step - loss: 0.5150 - acc: 0.7730\n",
      "Epoch 18/20\n",
      "3978/3978 [==============================] - 1s 211us/step - loss: 0.5107 - acc: 0.7778\n",
      "Epoch 19/20\n",
      "3978/3978 [==============================] - 1s 213us/step - loss: 0.5205 - acc: 0.7793\n",
      "Epoch 20/20\n",
      "3978/3978 [==============================] - 1s 210us/step - loss: 0.5050 - acc: 0.7843\n"
     ]
    },
    {
     "data": {
      "text/plain": [
       "<keras.callbacks.History at 0x20f84a7d3c8>"
      ]
     },
     "execution_count": 64,
     "metadata": {},
     "output_type": "execute_result"
    }
   ],
   "source": [
    "model.fit(x=[BBB_Train_3D,BBB_AUX_Train], y=BBB_Train_Targets_1HE, epochs=20, batch_size=32, verbose=1)"
   ]
  },
  {
   "cell_type": "markdown",
   "metadata": {
    "collapsed": true
   },
   "source": [
    "### Test LSTM Course BBB"
   ]
  },
  {
   "cell_type": "code",
   "execution_count": 65,
   "metadata": {},
   "outputs": [
    {
     "data": {
      "text/plain": [
       "array([2, 1, 2, 1, 1, 2, 2, 2, 0, 1, 2, 1, 1, 2, 1, 1, 2, 1, 1, 2, 2, 2, 2,\n",
       "       1, 0, 1, 1, 2, 1, 2, 2, 1, 2, 2, 1, 1, 1, 2, 1, 2, 2, 2, 2, 2, 1, 2,\n",
       "       2, 2, 1, 1, 1, 1, 1, 2, 1, 1, 2, 1, 2, 1, 2, 1, 2, 1, 2, 1, 1, 1, 2,\n",
       "       0, 1, 2, 1, 2, 1, 2, 1, 2, 2, 1, 2, 2, 2, 2, 2, 1, 2, 2, 1, 2, 2, 0,\n",
       "       2, 1, 2, 1, 1, 1, 2, 1, 1, 2, 1, 1, 2, 1, 2, 1, 2, 1, 1, 1, 2, 0, 2,\n",
       "       2, 2, 1, 2, 2, 2, 1, 1, 1, 2, 1, 2, 1, 1, 1, 1, 1, 1, 2, 0, 2, 1, 2,\n",
       "       1, 1, 1, 1, 2, 2, 1, 2, 2, 1, 1, 2, 1, 2, 1, 1, 2, 2, 2, 2, 1, 1, 2,\n",
       "       2, 2, 1, 2, 1, 2, 2, 1, 1, 1, 2, 0, 1, 2, 1, 2, 1, 2, 1, 2, 1, 2, 1,\n",
       "       0, 2, 2, 2, 1, 2, 2, 1, 2, 1, 1, 1, 2, 1, 2, 2, 2, 1, 1, 1, 1, 2, 2,\n",
       "       1, 1, 2, 1, 2, 2, 1, 2, 1, 2, 2, 2, 2, 1, 2, 1, 2, 2, 1, 1, 1, 1, 1,\n",
       "       2, 1, 2, 1, 1, 2, 1, 1, 1, 2, 2, 1, 1, 1, 2, 2, 2, 2, 2, 1, 2, 2, 1,\n",
       "       1, 2, 1, 1, 1, 2, 1, 2, 2, 2, 1, 2, 1, 1, 2, 2, 2, 1, 2, 2, 1, 2, 2,\n",
       "       2, 2, 1, 2, 1, 2, 1, 2, 2, 1, 2, 1, 1, 1, 1, 1, 2, 2, 2, 2, 2, 2, 1,\n",
       "       1, 2, 1, 2, 1, 2, 2, 2, 1, 2, 2, 1, 2, 2, 1, 2, 1, 1, 1, 1, 1, 2, 1,\n",
       "       2, 2, 2, 1, 1, 2, 1, 1, 1, 2, 2, 2, 2, 2, 2, 2, 2, 1, 1, 1, 2, 2, 2,\n",
       "       0, 1, 2, 1, 1, 2, 1, 2, 2, 1, 1, 2, 1, 1, 1, 1, 0, 2, 1, 2, 1, 2, 2,\n",
       "       2, 1, 1, 1, 1, 2, 2, 2, 1, 1, 2, 1, 2, 2, 2, 2, 2, 1, 2, 1, 2, 2, 1,\n",
       "       2, 2, 2, 1, 1, 1, 2, 1, 2, 1, 1, 2, 2, 2, 2, 1, 2, 1, 2, 1, 2, 1, 2,\n",
       "       2, 2, 2, 2, 1, 1, 2, 2, 2, 1, 1, 2, 2, 1, 2, 1, 1, 2, 2, 2, 2, 2, 2,\n",
       "       2, 2, 1, 2, 2, 2, 2, 2, 2, 1, 1, 2, 1, 2, 1, 2, 1, 2, 1, 2, 1, 1, 2,\n",
       "       2, 2, 1, 1, 1, 2, 2, 2, 1, 1, 1, 2, 1, 2, 1, 2, 1, 2, 2, 2, 1, 2, 2,\n",
       "       2, 1, 1, 2, 2, 1, 1, 2, 2, 2, 1, 1, 1, 1, 2, 2, 2, 2, 2, 2, 2, 1, 2,\n",
       "       2, 1, 1, 1, 1, 1, 1, 0, 2, 1, 2, 1, 2, 1, 1, 0, 1, 0, 1, 2, 1, 1, 1,\n",
       "       2, 1, 1, 1, 1, 2, 1, 1, 2, 2, 2, 1, 1, 2, 2, 2, 2, 2, 2, 2, 1, 2, 2,\n",
       "       2, 2, 2, 2, 1, 2, 1, 2, 2, 1, 2, 2, 2, 1, 1, 1, 2, 2, 1, 1, 1, 1, 1,\n",
       "       2, 2, 1, 1, 2, 2, 2, 1, 1, 2, 2, 2, 1, 1, 1, 1, 2, 1, 1, 2, 2, 1, 0,\n",
       "       2, 2, 1, 1, 2, 1, 2, 2, 2, 2, 0, 1, 2, 2, 1, 2, 1, 1, 2, 1, 2, 1, 0,\n",
       "       1, 1, 1, 1, 1, 2, 1, 1, 1, 2, 2, 2, 2, 1, 1, 2, 2, 1, 2, 2, 2, 2, 2,\n",
       "       2, 1, 1, 0, 2, 2, 0, 2, 2, 1, 1, 2, 1, 2, 2, 2, 2, 2, 1, 1, 1, 1, 2,\n",
       "       1, 2, 2, 1, 1, 2, 1, 1, 1, 2, 1, 2, 1, 1, 2, 1, 2, 1, 2, 2, 1, 2, 1,\n",
       "       2, 1, 2, 2, 2, 2, 1, 2, 2, 2, 2, 1, 1, 2, 1, 1, 2, 1, 2, 1, 2, 1, 1,\n",
       "       1, 1, 2, 1, 1, 2, 1, 2, 1, 1, 1, 2, 1, 2, 2, 2, 1, 1, 1, 1, 2, 2, 2,\n",
       "       1, 1, 1, 1, 2, 1, 2, 2, 1, 1, 2, 2, 1, 2, 2, 1, 1, 1, 2, 2, 2, 2, 2,\n",
       "       1, 1, 2, 1, 1, 1, 2, 2, 1, 2, 0, 2, 1, 2, 2, 1, 1, 2, 2, 1, 1, 2, 1,\n",
       "       2, 1, 2, 1, 2, 2, 1, 1, 2, 1, 1, 1, 2, 2, 2, 2, 1, 2, 1, 2, 1, 2, 2,\n",
       "       1, 1, 1, 2, 2, 1, 2, 2, 2, 2, 1, 1, 1, 2, 2, 1, 1, 1, 1, 1, 1, 1, 2,\n",
       "       1, 1, 1, 1, 1, 2, 2, 2, 2, 1, 2, 2, 2, 2, 1, 1, 2, 2, 2, 1, 2, 1, 1,\n",
       "       2, 2, 1, 2, 2, 1, 2, 1, 1, 1, 1, 2, 1, 2, 1, 2, 2, 1, 1, 1, 2, 2, 1,\n",
       "       2, 0, 2, 1, 1, 2, 1, 1, 2, 1, 2, 2, 1, 1, 1, 1, 2, 1, 2, 1, 1, 2, 2,\n",
       "       2, 2, 2, 1, 1, 1, 0, 1, 2, 2, 2, 2, 1, 1, 1, 1, 0, 2, 1, 2, 1, 1, 1,\n",
       "       1, 2, 2, 2, 1, 2, 1, 1, 1, 2, 1, 2, 1, 1, 2, 2, 1, 2, 1, 2, 1, 1, 2,\n",
       "       1, 2, 1, 2, 1, 2, 1, 2, 2, 1, 2, 2, 2, 1, 1, 1, 2, 2, 2, 2, 1, 2, 1,\n",
       "       1, 1, 1, 2, 1, 2, 1, 1, 1, 1, 1, 1, 2, 2, 1, 2, 2, 2, 1, 2, 1, 2, 1,\n",
       "       1, 1, 2, 1, 1, 2, 2, 2, 1, 2, 2, 2, 1, 1, 1, 1, 2, 2, 1, 1, 2, 2, 1,\n",
       "       1, 2, 1, 1, 1, 1, 1, 2, 2, 1, 1, 2, 1, 1, 1, 1, 2, 1, 1, 1, 1, 2, 1,\n",
       "       1, 1, 2, 2, 1, 1, 2, 1, 1, 2, 2, 2, 2, 2, 1, 1, 1, 1, 2, 2, 1, 1, 2,\n",
       "       2, 2, 2, 2, 1, 2, 2, 2, 2, 1, 1, 2, 1, 1, 2, 1, 1, 0, 1, 2, 2, 1, 1,\n",
       "       0, 1, 1, 1, 1, 2, 2, 1, 2, 2, 1, 1, 2, 2, 2, 1, 2, 1, 1, 1, 2, 2, 2,\n",
       "       1, 1, 1, 2, 1, 2, 2, 1, 2, 1, 1, 1, 2, 1, 1, 2, 2, 1, 2, 1, 2, 1, 1,\n",
       "       2, 1, 1, 1, 1, 2, 1, 2, 2, 2, 1, 1, 1, 1, 1, 1, 1, 2, 1, 2, 1, 1, 1,\n",
       "       1, 2, 2, 1, 1, 2, 1, 0, 1, 2, 2, 1, 2, 1, 1, 2, 2, 2, 0, 2, 1, 2, 1,\n",
       "       1, 2, 2, 2, 1, 2, 1, 1, 1, 2, 2, 1, 2, 2, 2, 1, 1, 0, 0, 2, 2, 1, 1,\n",
       "       1, 2, 1, 1, 2, 1, 2, 2, 1, 2, 2, 2, 1, 2, 2, 2, 2, 1, 0, 1, 2, 2, 2,\n",
       "       2, 1, 1, 0, 1, 1, 2, 0, 1, 1, 1, 1, 1, 2, 1, 1, 1, 2, 2, 1, 2, 1, 1,\n",
       "       1, 1, 2, 2, 2, 1, 1, 1, 1, 2, 2, 2, 1, 1, 2, 1, 2, 1, 2, 1, 2, 2, 2,\n",
       "       2, 2, 1, 2, 1, 2, 1, 1, 1, 2, 1, 1, 2, 1, 2, 2, 1, 2, 2, 2, 2, 2, 2,\n",
       "       2, 1, 2, 1, 1, 2, 2, 1, 2, 1, 1, 2, 1, 2, 1, 1, 1, 2, 2, 2, 2, 2, 2,\n",
       "       2, 2, 2, 2, 1, 2, 2, 2, 1, 1, 2, 1, 2, 2, 2, 2, 2, 1, 1, 1, 2, 1, 1,\n",
       "       2, 2, 0, 2, 2, 1, 1, 1, 2, 2, 2, 2, 1, 2, 2, 2, 1, 1, 1, 2, 2, 2, 2,\n",
       "       1, 1, 2, 1, 2, 2, 2, 1, 2, 2, 1, 2, 2, 2, 2, 1, 1, 1, 1, 2, 1, 2, 0,\n",
       "       2, 1, 1, 2, 1, 2, 1, 2, 1, 2, 2, 1, 1, 1, 2, 0, 2, 1, 2, 1, 2, 2, 1,\n",
       "       1, 2, 2, 2, 2, 1, 1, 2, 2, 1, 2, 1, 1, 1, 1, 1, 2, 2, 2, 1, 1, 2, 2,\n",
       "       1, 2, 2, 1, 1, 2, 1, 2, 1, 1, 1, 1, 2, 2, 1, 2, 2, 2, 2, 2, 1, 2, 2,\n",
       "       2, 2, 2, 2, 1, 2, 2, 2, 1, 2, 2, 1, 1, 0, 2, 2, 2, 1, 2, 2, 2, 2, 2,\n",
       "       2, 1, 1, 2, 1, 2, 2, 1, 1, 2, 2, 2, 1, 2, 1, 1, 1, 1, 2, 2, 2, 2, 1,\n",
       "       1, 2, 2, 1, 2, 1, 2, 1, 1, 2, 1, 2, 1, 1, 1, 2, 1, 2, 1, 2, 2, 2, 2,\n",
       "       2, 2, 2, 2, 2, 1, 2, 2, 2, 2, 1, 2, 0, 2, 0, 1, 2, 2, 1, 2, 1, 0, 1,\n",
       "       2, 2], dtype=int64)"
      ]
     },
     "execution_count": 65,
     "metadata": {},
     "output_type": "execute_result"
    }
   ],
   "source": [
    "y_pred_BBB = model.predict([BBB_Test_3D, BBB_AUX_Test])\n",
    "y_classes_BBB = np.argmax(y_pred_BBB,axis=1)\n",
    "y_classes_BBB"
   ]
  },
  {
   "cell_type": "code",
   "execution_count": 66,
   "metadata": {},
   "outputs": [
    {
     "name": "stdout",
     "output_type": "stream",
     "text": [
      "Course BBB - 3 Target Classes\n",
      "Classification Report for LSTM predictions:\n",
      "-------------------------------------------\n",
      "             precision    recall  f1-score   support\n",
      "\n",
      "          0       0.63      0.13      0.22       180\n",
      "          1       0.47      0.87      0.61       391\n",
      "          2       0.75      0.60      0.67       972\n",
      "\n",
      "avg / total       0.67      0.62      0.60      1543\n",
      "\n"
     ]
    }
   ],
   "source": [
    "print('Course BBB - 3 Target Classes')\n",
    "print('Classification Report for LSTM predictions:')\n",
    "print('-------------------------------------------')\n",
    "print(classification_report(y_pred=y_classes_BBB, y_true=BBB_Test_Targets_1D))\n"
   ]
  },
  {
   "cell_type": "markdown",
   "metadata": {},
   "source": [
    "# LSTM COURSE DDD"
   ]
  },
  {
   "cell_type": "markdown",
   "metadata": {
    "collapsed": true
   },
   "source": [
    "### Train LSTM Course DDD"
   ]
  },
  {
   "cell_type": "code",
   "execution_count": 67,
   "metadata": {},
   "outputs": [
    {
     "name": "stdout",
     "output_type": "stream",
     "text": [
      "Epoch 1/20\n",
      "2866/2866 [==============================] - 1s 219us/step - loss: 0.4778 - acc: 0.8018\n",
      "Epoch 2/20\n",
      "2866/2866 [==============================] - 1s 229us/step - loss: 0.4594 - acc: 0.8070\n",
      "Epoch 3/20\n",
      "2866/2866 [==============================] - 1s 238us/step - loss: 0.4415 - acc: 0.8081\n",
      "Epoch 4/20\n",
      "2866/2866 [==============================] - 1s 216us/step - loss: 0.4250 - acc: 0.8158\n",
      "Epoch 5/20\n",
      "2866/2866 [==============================] - 1s 215us/step - loss: 0.4263 - acc: 0.8133\n",
      "Epoch 6/20\n",
      "2866/2866 [==============================] - 1s 221us/step - loss: 0.4175 - acc: 0.8193\n",
      "Epoch 7/20\n",
      "2866/2866 [==============================] - 1s 229us/step - loss: 0.4137 - acc: 0.8262\n",
      "Epoch 8/20\n",
      "2866/2866 [==============================] - 1s 260us/step - loss: 0.3995 - acc: 0.8255\n",
      "Epoch 9/20\n",
      "2866/2866 [==============================] - 1s 235us/step - loss: 0.3963 - acc: 0.8329\n",
      "Epoch 10/20\n",
      "2866/2866 [==============================] - 1s 223us/step - loss: 0.3927 - acc: 0.8241\n",
      "Epoch 11/20\n",
      "2866/2866 [==============================] - 1s 217us/step - loss: 0.3881 - acc: 0.8336\n",
      "Epoch 12/20\n",
      "2866/2866 [==============================] - 1s 222us/step - loss: 0.3852 - acc: 0.8360\n",
      "Epoch 13/20\n",
      "2866/2866 [==============================] - 1s 224us/step - loss: 0.3895 - acc: 0.8322\n",
      "Epoch 14/20\n",
      "2866/2866 [==============================] - 1s 221us/step - loss: 0.3912 - acc: 0.8343\n",
      "Epoch 15/20\n",
      "2866/2866 [==============================] - 1s 224us/step - loss: 0.3773 - acc: 0.8367\n",
      "Epoch 16/20\n",
      "2866/2866 [==============================] - 1s 220us/step - loss: 0.3819 - acc: 0.8332\n",
      "Epoch 17/20\n",
      "2866/2866 [==============================] - 1s 225us/step - loss: 0.3740 - acc: 0.8364\n",
      "Epoch 18/20\n",
      "2866/2866 [==============================] - 1s 228us/step - loss: 0.3667 - acc: 0.8430\n",
      "Epoch 19/20\n",
      "2866/2866 [==============================] - 1s 235us/step - loss: 0.3697 - acc: 0.8318\n",
      "Epoch 20/20\n",
      "2866/2866 [==============================] - 1s 227us/step - loss: 0.3680 - acc: 0.8412\n"
     ]
    },
    {
     "data": {
      "text/plain": [
       "<keras.callbacks.History at 0x20f81f94a20>"
      ]
     },
     "execution_count": 67,
     "metadata": {},
     "output_type": "execute_result"
    }
   ],
   "source": [
    "model.fit([DDD_Train_3D,DDD_AUX_Train], DDD_Train_Targets_1HE, epochs=20, batch_size=32, verbose=1)"
   ]
  },
  {
   "cell_type": "markdown",
   "metadata": {
    "collapsed": true
   },
   "source": [
    "### Test LSTM Course DDD"
   ]
  },
  {
   "cell_type": "code",
   "execution_count": 68,
   "metadata": {},
   "outputs": [
    {
     "data": {
      "text/plain": [
       "array([2, 1, 2, 1, 2, 2, 2, 2, 2, 2, 2, 2, 1, 2, 2, 2, 2, 1, 2, 2, 1, 1, 2,\n",
       "       1, 2, 1, 1, 1, 2, 2, 1, 2, 2, 2, 1, 2, 1, 2, 2, 2, 1, 2, 1, 2, 2, 2,\n",
       "       2, 2, 2, 2, 2, 1, 1, 1, 2, 1, 1, 0, 2, 2, 2, 2, 2, 2, 2, 1, 2, 2, 2,\n",
       "       1, 1, 2, 1, 1, 2, 2, 1, 2, 2, 2, 2, 2, 0, 2, 1, 1, 2, 1, 2, 2, 2, 2,\n",
       "       2, 2, 1, 2, 1, 2, 1, 1, 2, 2, 1, 2, 2, 2, 2, 1, 1, 1, 2, 2, 2, 2, 1,\n",
       "       2, 2, 2, 2, 2, 2, 2, 2, 1, 1, 1, 2, 1, 1, 1, 1, 2, 2, 1, 1, 2, 2, 2,\n",
       "       2, 1, 2, 2, 2, 2, 2, 2, 2, 1, 2, 1, 2, 2, 2, 2, 1, 2, 1, 1, 2, 1, 2,\n",
       "       2, 2, 1, 1, 2, 1, 2, 1, 2, 1, 2, 1, 2, 1, 1, 1, 2, 2, 1, 2, 2, 2, 2,\n",
       "       1, 2, 2, 2, 2, 2, 2, 1, 2, 2, 1, 1, 2, 2, 2, 1, 2, 2, 1, 2, 1, 1, 2,\n",
       "       2, 2, 1, 2, 1, 1, 2, 2, 2, 1, 2, 1, 1, 2, 2, 1, 1, 1, 1, 1, 1, 2, 2,\n",
       "       1, 2, 2, 2, 1, 1, 2, 1, 2, 2, 1, 1, 1, 1, 2, 2, 1, 2, 2, 1, 1, 2, 1,\n",
       "       1, 1, 1, 2, 2, 1, 2, 1, 2, 2, 2, 2, 1, 2, 2, 2, 2, 2, 1, 1, 2, 0, 1,\n",
       "       2, 2, 1, 1, 2, 2, 2, 2, 2, 1, 2, 2, 2, 2, 2, 1, 2, 1, 2, 2, 2, 2, 2,\n",
       "       2, 1, 2, 2, 1, 2, 1, 1, 1, 2, 2, 1, 2, 1, 1, 2, 2, 2, 1, 1, 2, 0, 2,\n",
       "       2, 2, 1, 1, 2, 2, 1, 0, 2, 1, 2, 1, 1, 1, 2, 2, 2, 1, 2, 1, 2, 1, 2,\n",
       "       1, 2, 1, 1, 1, 2, 1, 1, 2, 1, 2, 2, 1, 1, 1, 2, 1, 1, 1, 1, 2, 1, 1,\n",
       "       1, 2, 2, 2, 2, 2, 2, 1, 1, 1, 1, 2, 1, 1, 1, 1, 1, 1, 2, 1, 1, 1, 1,\n",
       "       1, 1, 2, 2, 1, 1, 2, 1, 1, 0, 2, 2, 2, 1, 2, 1, 1, 2, 2, 1, 2, 1, 1,\n",
       "       2, 2, 2, 1, 1, 2, 2, 2, 2, 2, 2, 2, 2, 2, 2, 1, 2, 2, 2, 1, 2, 1, 2,\n",
       "       1, 2, 2, 1, 1, 2, 2, 2, 2, 1, 1, 1, 1, 2, 2, 2, 2, 2, 2, 2, 1, 2, 2,\n",
       "       2, 2, 2, 2, 2, 1, 2, 2, 2, 1, 2, 1, 2, 2, 2, 2, 2, 2, 2, 1, 2, 2, 2,\n",
       "       1, 2, 2, 2, 2, 2, 1, 2, 2, 1, 2, 1, 1, 2, 2, 2, 1, 2, 2, 2, 1, 1, 2,\n",
       "       2, 2, 2, 2, 2, 2, 2, 2, 1, 2, 2, 2, 1, 2, 2, 1, 2, 2, 2, 2, 2, 1, 2,\n",
       "       2, 2, 1, 2, 2, 2, 2, 1, 1, 2, 1, 1, 2, 1, 2, 2, 1, 2, 2, 2, 2, 2, 2,\n",
       "       2, 2, 1, 1, 1, 1, 2, 2, 2, 1, 2, 2, 1, 2, 1, 2, 2, 2, 2, 2, 2, 2, 2,\n",
       "       2, 1, 2, 1, 1, 1, 2, 2, 2, 1, 2, 1, 1, 1, 2, 1, 1, 2, 2, 1, 2, 2, 1,\n",
       "       1, 1, 2, 2, 2, 2, 2, 2, 2, 2, 2, 2, 2, 2, 2, 2, 1, 2, 2, 2, 2, 2, 2,\n",
       "       2, 2, 1, 1, 2, 2, 2, 2, 2, 2, 2, 2, 2, 2, 1, 2, 2, 1, 2, 1, 2, 2, 2,\n",
       "       1, 1, 2, 2, 2, 1, 2, 1, 1, 1, 2, 2, 2, 2, 2, 1, 2, 1, 1, 2, 1, 2, 2,\n",
       "       2, 2, 1, 2, 2, 1, 1, 1, 1, 2, 1, 1, 1, 1, 2, 2, 2, 1, 2, 1, 2, 2, 2,\n",
       "       2, 1, 2, 1, 0, 2, 1, 2, 2, 2, 0, 1, 2, 2, 2, 2, 1, 2, 0, 2, 1, 2, 2,\n",
       "       2, 1, 2, 2, 2, 2, 1, 2, 1, 2, 2, 2, 1, 2, 0, 2, 2, 2, 2, 2, 2, 1, 2,\n",
       "       1, 1, 1, 2, 2, 2, 1, 1, 1, 1, 2, 2, 2, 1, 2, 1, 1, 2, 2, 2, 2, 1, 2,\n",
       "       2, 2, 1, 1, 1, 1, 2, 1, 2, 2, 1, 2, 1, 2, 2, 1, 2, 2, 1, 2, 2, 1, 2,\n",
       "       2, 2, 2, 2, 2, 2, 2, 1, 1, 1, 2, 2, 2, 2, 2, 2, 2, 2, 1, 1, 2, 2, 2,\n",
       "       2, 1, 1, 2, 2, 1, 1, 2, 2, 1, 2, 1, 1, 2, 2, 2, 2, 1, 2, 1, 2, 1, 1,\n",
       "       2, 1, 1, 1, 2, 2, 1, 2, 1, 1, 2, 1, 1, 2, 0, 2, 2, 2, 1, 2, 1, 2, 2,\n",
       "       2, 2, 2, 1, 2, 2, 2, 2, 2, 2, 2, 1, 2, 2, 1, 1, 2, 1, 1, 2, 2, 2, 0,\n",
       "       1, 2, 2, 1, 2, 2, 1, 1, 1, 1, 1, 2, 2, 1, 2, 1, 2, 2, 2, 2, 1, 2, 1,\n",
       "       2, 0, 1, 1, 2, 2, 2, 1, 2, 2, 2, 2, 2, 2, 2, 1, 2, 2, 1, 1, 1, 1, 1,\n",
       "       2, 2, 1, 2, 2, 2, 2, 1, 2, 2, 2, 2, 1, 1, 2, 2, 1, 2, 2, 2, 2, 2, 2,\n",
       "       1, 1, 2, 2, 1, 1, 1, 1, 2, 1, 1, 2, 2, 2, 1, 2, 2, 1, 1, 1, 2, 2, 2,\n",
       "       1, 2, 1, 2, 2, 1, 2, 2, 2, 2, 1, 2, 2, 2, 2, 1, 2, 2, 2, 2, 2, 2, 2,\n",
       "       1, 1, 2, 2, 2, 2, 0, 1, 2, 2, 2, 2, 1, 2, 1, 2, 2, 2, 2, 1, 2, 2, 2,\n",
       "       2, 2, 2, 2, 1, 2, 2, 2, 2, 2, 2, 2, 1, 2, 2, 1, 1, 1, 1, 1, 2, 1, 2,\n",
       "       2, 2, 2, 2, 2, 2, 2, 2, 2, 2, 1, 2, 2, 2, 1, 2, 1, 2, 2, 2, 2, 2, 2,\n",
       "       2, 2, 1, 2, 2, 2, 2, 1, 2, 2, 2, 2, 1, 1, 2, 2, 0, 1, 2, 1, 1, 2, 2,\n",
       "       2, 2, 1, 1, 1, 2, 2, 1, 1, 2, 2, 2, 2, 2, 2, 1, 2, 2, 2, 2, 2, 2, 2,\n",
       "       1, 2, 1, 2, 2, 1, 2, 1, 2, 2, 2, 2, 2, 2, 2, 2, 1, 2, 2, 2, 1, 2, 2,\n",
       "       1, 1, 1, 1, 2, 2, 1, 1, 1, 2, 1, 1, 1, 1, 1, 1, 2, 2, 1, 1, 2, 2, 2,\n",
       "       2, 1, 2, 2, 1, 2], dtype=int64)"
      ]
     },
     "execution_count": 68,
     "metadata": {},
     "output_type": "execute_result"
    }
   ],
   "source": [
    "y_pred_DDD = model.predict([DDD_Test_3D, DDD_AUX_Test])\n",
    "y_classes_DDD = np.argmax(y_pred_DDD,axis=1)\n",
    "y_classes_DDD"
   ]
  },
  {
   "cell_type": "code",
   "execution_count": 69,
   "metadata": {},
   "outputs": [
    {
     "name": "stdout",
     "output_type": "stream",
     "text": [
      "Course DDD - 3 Target Classes\n",
      "Classification Report for LSTM predictions:\n",
      "-------------------------------------------\n",
      "             precision    recall  f1-score   support\n",
      "\n",
      "          0       0.80      0.11      0.19       112\n",
      "          1       0.76      0.87      0.81       364\n",
      "          2       0.80      0.85      0.82       680\n",
      "\n",
      "avg / total       0.78      0.78      0.76      1156\n",
      "\n"
     ]
    }
   ],
   "source": [
    "print('Course DDD - 3 Target Classes')\n",
    "print('Classification Report for LSTM predictions:')\n",
    "print('-------------------------------------------')\n",
    "print(classification_report(y_pred=y_classes_DDD, y_true=DDD_Test_Targets_1D))\n"
   ]
  },
  {
   "cell_type": "markdown",
   "metadata": {},
   "source": [
    "# LSTM COURSE FFF"
   ]
  },
  {
   "cell_type": "markdown",
   "metadata": {
    "collapsed": true
   },
   "source": [
    "### Train LSTM Course FFF"
   ]
  },
  {
   "cell_type": "code",
   "execution_count": 29,
   "metadata": {},
   "outputs": [
    {
     "name": "stdout",
     "output_type": "stream",
     "text": [
      "Epoch 1/20\n",
      "3849/3849 [==============================] - 2s 466us/step - loss: 0.8398 - acc: 0.6654\n",
      "Epoch 2/20\n",
      "3849/3849 [==============================] - 1s 197us/step - loss: 0.6023 - acc: 0.7924\n",
      "Epoch 3/20\n",
      "3849/3849 [==============================] - 1s 199us/step - loss: 0.5523 - acc: 0.7968\n",
      "Epoch 4/20\n",
      "3849/3849 [==============================] - 1s 204us/step - loss: 0.5007 - acc: 0.8072\n",
      "Epoch 5/20\n",
      "3849/3849 [==============================] - 1s 222us/step - loss: 0.4758 - acc: 0.8062\n",
      "Epoch 6/20\n",
      "3849/3849 [==============================] - 1s 204us/step - loss: 0.4512 - acc: 0.8109\n",
      "Epoch 7/20\n",
      "3849/3849 [==============================] - 1s 205us/step - loss: 0.4299 - acc: 0.8132\n",
      "Epoch 8/20\n",
      "3849/3849 [==============================] - 1s 205us/step - loss: 0.4145 - acc: 0.8231\n",
      "Epoch 9/20\n",
      "3849/3849 [==============================] - 1s 201us/step - loss: 0.4158 - acc: 0.8187\n",
      "Epoch 10/20\n",
      "3849/3849 [==============================] - 1s 234us/step - loss: 0.4026 - acc: 0.8249\n",
      "Epoch 11/20\n",
      "3849/3849 [==============================] - 1s 234us/step - loss: 0.4041 - acc: 0.8244\n",
      "Epoch 12/20\n",
      "3849/3849 [==============================] - 1s 207us/step - loss: 0.4031 - acc: 0.8254\n",
      "Epoch 13/20\n",
      "3849/3849 [==============================] - 1s 206us/step - loss: 0.3942 - acc: 0.8348\n",
      "Epoch 14/20\n",
      "3849/3849 [==============================] - 1s 208us/step - loss: 0.3927 - acc: 0.8296\n",
      "Epoch 15/20\n",
      "3849/3849 [==============================] - 1s 218us/step - loss: 0.3917 - acc: 0.8306\n",
      "Epoch 16/20\n",
      "3849/3849 [==============================] - 1s 215us/step - loss: 0.3866 - acc: 0.8332\n",
      "Epoch 17/20\n",
      "3849/3849 [==============================] - 1s 216us/step - loss: 0.3905 - acc: 0.8353\n",
      "Epoch 18/20\n",
      "3849/3849 [==============================] - 1s 212us/step - loss: 0.3893 - acc: 0.8353\n",
      "Epoch 19/20\n",
      "3849/3849 [==============================] - 1s 225us/step - loss: 0.3864 - acc: 0.8355\n",
      "Epoch 20/20\n",
      "3849/3849 [==============================] - 1s 216us/step - loss: 0.3873 - acc: 0.8296\n"
     ]
    },
    {
     "data": {
      "text/plain": [
       "<keras.callbacks.History at 0x13ea22fa9e8>"
      ]
     },
     "execution_count": 29,
     "metadata": {},
     "output_type": "execute_result"
    }
   ],
   "source": [
    "model.fit([FFF_Train_3D,FFF_AUX_Train], FFF_Train_Targets_1HE, epochs=20, batch_size=32, verbose=1)"
   ]
  },
  {
   "cell_type": "markdown",
   "metadata": {
    "collapsed": true
   },
   "source": [
    "### Test LSTM Course FFF"
   ]
  },
  {
   "cell_type": "code",
   "execution_count": 30,
   "metadata": {},
   "outputs": [
    {
     "data": {
      "text/plain": [
       "array([1, 1, 0, 1, 2, 1, 1, 2, 1, 2, 0, 2, 0, 2, 2, 2, 2, 0, 0, 2, 0, 0, 1,\n",
       "       1, 2, 0, 2, 2, 2, 2, 0, 2, 0, 0, 2, 0, 2, 2, 2, 2, 2, 2, 0, 2, 2, 2,\n",
       "       1, 1, 2, 2, 1, 0, 0, 1, 2, 0, 2, 2, 2, 0, 2, 0, 0, 1, 2, 0, 1, 0, 2,\n",
       "       0, 0, 2, 0, 2, 0, 1, 0, 1, 0, 1, 2, 1, 2, 2, 0, 0, 2, 0, 2, 2, 0, 2,\n",
       "       1, 2, 2, 2, 2, 2, 2, 0, 2, 2, 0, 1, 2, 0, 1, 2, 1, 0, 2, 1, 0, 2, 1,\n",
       "       0, 0, 2, 2, 0, 2, 0, 1, 2, 1, 2, 2, 2, 0, 1, 2, 0, 2, 2, 2, 2, 2, 0,\n",
       "       0, 2, 1, 2, 1, 1, 2, 2, 2, 2, 1, 2, 2, 2, 2, 2, 1, 1, 2, 2, 1, 0, 1,\n",
       "       1, 0, 2, 1, 1, 2, 0, 2, 0, 0, 1, 2, 2, 0, 2, 2, 2, 1, 0, 0, 0, 2, 0,\n",
       "       0, 2, 2, 0, 2, 2, 2, 1, 1, 2, 1, 2, 2, 1, 2, 0, 2, 1, 2, 2, 2, 2, 2,\n",
       "       2, 0, 0, 0, 2, 2, 0, 1, 2, 2, 1, 1, 0, 2, 1, 2, 0, 0, 0, 0, 2, 2, 1,\n",
       "       2, 1, 2, 2, 2, 0, 0, 1, 1, 1, 2, 2, 1, 2, 2, 2, 2, 2, 2, 1, 2, 2, 0,\n",
       "       0, 2, 2, 2, 2, 1, 1, 2, 1, 1, 0, 0, 2, 2, 2, 2, 2, 2, 2, 1, 2, 1, 1,\n",
       "       2, 2, 2, 1, 0, 2, 1, 2, 2, 1, 2, 1, 2, 2, 1, 0, 0, 2, 0, 2, 0, 0, 0,\n",
       "       0, 2, 1, 1, 0, 2, 2, 2, 2, 2, 1, 2, 1, 2, 2, 2, 2, 1, 0, 1, 2, 2, 1,\n",
       "       1, 1, 2, 2, 2, 2, 1, 1, 2, 1, 0, 0, 2, 2, 2, 0, 2, 2, 2, 1, 2, 1, 2,\n",
       "       1, 2, 2, 2, 2, 2, 2, 2, 2, 2, 1, 0, 0, 2, 1, 2, 2, 2, 2, 2, 1, 1, 0,\n",
       "       2, 2, 2, 2, 2, 2, 2, 2, 0, 2, 0, 2, 1, 0, 2, 1, 2, 0, 2, 2, 1, 1, 2,\n",
       "       1, 1, 1, 2, 0, 2, 1, 2, 2, 2, 1, 0, 1, 2, 2, 1, 2, 2, 0, 2, 2, 2, 0,\n",
       "       2, 2, 0, 2, 2, 0, 2, 2, 2, 1, 2, 1, 2, 2, 2, 2, 2, 1, 1, 2, 2, 2, 2,\n",
       "       2, 2, 0, 1, 2, 0, 0, 2, 1, 2, 0, 2, 0, 2, 0, 1, 2, 0, 2, 1, 0, 1, 2,\n",
       "       2, 0, 2, 2, 2, 1, 2, 0, 2, 2, 1, 0, 2, 0, 1, 1, 1, 2, 0, 0, 0, 1, 2,\n",
       "       1, 1, 0, 1, 2, 2, 1, 2, 2, 2, 0, 2, 1, 1, 1, 2, 2, 2, 2, 2, 0, 0, 2,\n",
       "       1, 1, 1, 0, 2, 2, 1, 1, 0, 1, 2, 1, 1, 2, 2, 2, 1, 2, 2, 2, 0, 1, 1,\n",
       "       0, 1, 2, 1, 0, 1, 2, 2, 0, 0, 0, 2, 2, 2, 0, 1, 1, 2, 2, 1, 2, 2, 2,\n",
       "       2, 2, 2, 2, 2, 2, 0, 2, 2, 1, 1, 1, 2, 1, 2, 0, 2, 2, 0, 2, 2, 2, 2,\n",
       "       0, 1, 1, 1, 1, 1, 2, 2, 1, 2, 2, 2, 1, 2, 1, 2, 2, 2, 1, 1, 2, 1, 1,\n",
       "       2, 0, 2, 0, 2, 2, 2, 2, 2, 1, 0, 0, 0, 2, 2, 2, 2, 0, 1, 2, 2, 0, 0,\n",
       "       2, 0, 2, 1, 2, 2, 0, 2, 2, 0, 1, 0, 1, 0, 2, 2, 0, 2, 2, 0, 2, 2, 2,\n",
       "       2, 1, 0, 0, 2, 1, 2, 0, 2, 1, 0, 0, 0, 0, 2, 1, 2, 2, 2, 0, 1, 0, 2,\n",
       "       2, 0, 2, 2, 2, 2, 2, 2, 1, 2, 2, 2, 0, 1, 1, 0, 1, 2, 2, 2, 2, 2, 0,\n",
       "       0, 2, 2, 1, 1, 1, 0, 1, 0, 2, 0, 0, 0, 2, 0, 2, 1, 2, 2, 2, 2, 0, 2,\n",
       "       1, 2, 0, 0, 1, 2, 2, 1, 0, 1, 1, 2, 1, 2, 2, 1, 1, 2, 2, 1, 2, 2, 1,\n",
       "       2, 1, 2, 2, 0, 0, 2, 2, 1, 2, 1, 1, 1, 0, 1, 2, 1, 2, 2, 2, 0, 2, 2,\n",
       "       0, 0, 1, 2, 2, 2, 2, 2, 2, 0, 0, 2, 2, 2, 2, 0, 1, 1, 0, 2, 0, 2, 2,\n",
       "       1, 2, 1, 2, 0, 0, 2, 0, 2, 2, 1, 2, 0, 1, 2, 1, 0, 0, 1, 2, 0, 2, 2,\n",
       "       2, 2, 2, 2, 1, 0, 2, 0, 2, 0, 2, 1, 0, 2, 1, 2, 2, 0, 2, 0, 2, 1, 0,\n",
       "       2, 0, 2, 0, 0, 2, 2, 1, 0, 1, 2, 0, 1, 0, 1, 2, 2, 2, 2, 2, 1, 1, 2,\n",
       "       2, 2, 2, 0, 2, 2, 0, 0, 1, 2, 0, 0, 2, 2, 0, 0, 2, 2, 2, 0, 0, 2, 1,\n",
       "       2, 0, 1, 1, 0, 0, 1, 2, 2, 0, 2, 2, 2, 1, 2, 2, 0, 1, 2, 1, 2, 0, 2,\n",
       "       0, 2, 0, 2, 2, 2, 1, 1, 2, 2, 1, 0, 0, 1, 0, 0, 1, 1, 0, 2, 0, 0, 2,\n",
       "       2, 1, 0, 1, 2, 1, 2, 1, 2, 2, 1, 2, 2, 2, 2, 2, 2, 2, 2, 1, 2, 2, 2,\n",
       "       2, 0, 1, 1, 0, 2, 1, 0, 2, 1, 1, 2, 0, 1, 2, 2, 2, 2, 2, 2, 0, 1, 2,\n",
       "       1, 1, 1, 2, 2, 2, 2, 2, 2, 2, 1, 2, 1, 1, 1, 2, 2, 2, 0, 2, 2, 0, 1,\n",
       "       2, 0, 1, 2, 2, 0, 2, 2, 2, 2, 2, 0, 1, 2, 1, 0, 0, 0, 1, 2, 1, 0, 1,\n",
       "       2, 1, 2, 2, 1, 2, 2, 2, 2, 0, 2, 0, 2, 2, 2, 2, 1, 2, 2, 1, 1, 2, 2,\n",
       "       2, 2, 2, 0, 2, 1, 0, 2, 2, 2, 2, 0, 2, 0, 0, 2, 1, 2, 1, 2, 0, 0, 2,\n",
       "       0, 2, 2, 2, 2, 2, 2, 1, 0, 2, 0, 2, 0, 2, 2, 0, 1, 1, 0, 0, 2, 2, 0,\n",
       "       2, 0, 1, 2, 2, 2, 2, 0, 0, 2, 2, 1, 0, 0, 0, 2, 2, 1, 0, 2, 0, 0, 1,\n",
       "       2, 2, 2, 0, 0, 2, 0, 2, 0, 0, 0, 2, 2, 0, 0, 2, 2, 2, 2, 2, 1, 1, 2,\n",
       "       1, 2, 0, 0, 2, 0, 2, 1, 0, 0, 1, 2, 2, 0, 1, 2, 0, 2, 0, 0, 0, 2, 2,\n",
       "       2, 0, 2, 0, 2, 2, 2, 2, 2, 2, 2, 2, 2, 1, 1, 2, 2, 1, 2, 2, 0, 1, 2,\n",
       "       2, 1, 0, 2, 2, 0, 0, 0, 0, 1, 0, 1, 2, 2, 1, 1, 2, 2, 1, 2, 2, 0, 2,\n",
       "       2, 2, 2, 0, 2, 2, 2, 1, 0, 0, 2, 2, 1, 1, 0, 2, 2, 0, 2, 2, 0, 2, 2,\n",
       "       2, 0, 2, 2, 2, 1, 2, 2, 0, 2, 0, 2, 1, 0, 2, 0, 2, 2, 0, 2, 2, 2, 2,\n",
       "       2, 2, 2, 0, 2, 1, 0, 2, 2, 1, 2, 2, 2, 0, 2, 1, 1, 2, 0, 2, 2, 2, 0,\n",
       "       0, 0, 1, 0, 2, 2, 2, 2, 1, 2, 1, 0, 2, 2, 0, 0, 1, 2, 1, 2, 2, 2, 0,\n",
       "       1, 1, 2, 2, 2, 0, 1, 2, 2, 2, 0, 2, 2, 2, 1, 2, 1, 1, 2, 1, 2, 0, 0,\n",
       "       1, 0, 1, 0, 2, 2, 2, 2, 2, 2, 2, 1, 1, 0, 1, 2, 2, 2, 2, 2, 2, 2, 2,\n",
       "       2, 1, 1, 1, 1, 2, 2, 1, 1, 1, 0, 2, 0, 2, 2, 2, 1, 2, 1, 2, 2, 0, 2,\n",
       "       2, 2, 1, 2, 2, 2, 1, 1, 1, 2, 1, 1, 2, 2, 2, 0, 2, 0, 1, 2, 1, 2, 0,\n",
       "       0, 2, 2, 1, 2, 2, 0, 2, 2, 2, 2, 1, 0, 2, 0, 2, 2, 1, 2, 2, 1, 2, 1,\n",
       "       2, 2, 0, 2, 2, 0, 0, 2, 1, 2, 2, 2, 0, 1, 2, 1, 2, 2, 2, 0, 2, 2, 0,\n",
       "       0, 2, 2, 2, 1, 2, 0, 1, 0, 2, 2, 0, 1, 1, 2, 2, 2, 0, 2, 2, 0, 2, 2,\n",
       "       2, 2, 1, 0, 1, 2, 0, 0, 1, 1, 0, 0, 2, 0, 2, 0, 0, 2, 1, 2, 1, 1, 2,\n",
       "       0, 1, 2, 1, 2, 2, 2, 1, 2, 1, 0, 2, 2, 2, 2, 1, 1, 2, 1, 2, 2, 1, 2,\n",
       "       2, 2, 2, 0, 2, 2, 2, 2, 1, 1, 0, 0, 2, 0, 1], dtype=int64)"
      ]
     },
     "execution_count": 30,
     "metadata": {},
     "output_type": "execute_result"
    }
   ],
   "source": [
    "y_pred_FFF = model.predict([FFF_Test_3D, FFF_AUX_Test])\n",
    "y_classes_FFF = np.argmax(y_pred_FFF,axis=1)\n",
    "y_classes_FFF"
   ]
  },
  {
   "cell_type": "code",
   "execution_count": 31,
   "metadata": {},
   "outputs": [
    {
     "name": "stdout",
     "output_type": "stream",
     "text": [
      "Course FFF - 3 Target Classes\n",
      "Classification Report for LSTM predictions:\n",
      "-------------------------------------------\n",
      "             precision    recall  f1-score   support\n",
      "\n",
      "          0       0.59      0.82      0.69       258\n",
      "          1       0.93      0.83      0.88       393\n",
      "          2       0.86      0.80      0.83       859\n",
      "\n",
      "avg / total       0.83      0.81      0.82      1510\n",
      "\n"
     ]
    }
   ],
   "source": [
    "print('Course FFF - 3 Target Classes')\n",
    "print('Classification Report for LSTM predictions:')\n",
    "print('-------------------------------------------')\n",
    "print(classification_report(y_pred=y_classes_FFF, y_true=FFF_Test_Targets_1D))\n"
   ]
  },
  {
   "cell_type": "code",
   "execution_count": 104,
   "metadata": {},
   "outputs": [
    {
     "name": "stdout",
     "output_type": "stream",
     "text": [
      "Epoch 1/20\n",
      "3849/3849 [==============================] - 1s 370us/step - loss: 1.1211 - acc: 0.4838\n",
      "Epoch 2/20\n",
      "3849/3849 [==============================] - 0s 49us/step - loss: 1.0425 - acc: 0.5123\n",
      "Epoch 3/20\n",
      "3849/3849 [==============================] - 0s 63us/step - loss: 1.0263 - acc: 0.5110\n",
      "Epoch 4/20\n",
      "3849/3849 [==============================] - 0s 49us/step - loss: 1.0196 - acc: 0.5168\n",
      "Epoch 5/20\n",
      "3849/3849 [==============================] - 0s 48us/step - loss: 0.9916 - acc: 0.5386\n",
      "Epoch 6/20\n",
      "3849/3849 [==============================] - 0s 71us/step - loss: 1.0018 - acc: 0.5313\n",
      "Epoch 7/20\n",
      "3849/3849 [==============================] - 0s 50us/step - loss: 0.9949 - acc: 0.5404\n",
      "Epoch 8/20\n",
      "3849/3849 [==============================] - 0s 54us/step - loss: 0.9829 - acc: 0.5412\n",
      "Epoch 9/20\n",
      "3849/3849 [==============================] - 0s 53us/step - loss: 0.9683 - acc: 0.5459\n",
      "Epoch 10/20\n",
      "3849/3849 [==============================] - 0s 54us/step - loss: 0.9707 - acc: 0.5456\n",
      "Epoch 11/20\n",
      "3849/3849 [==============================] - 0s 52us/step - loss: 0.9798 - acc: 0.5362\n",
      "Epoch 12/20\n",
      "3849/3849 [==============================] - 0s 51us/step - loss: 0.9688 - acc: 0.5427\n",
      "Epoch 13/20\n",
      "3849/3849 [==============================] - 0s 65us/step - loss: 0.9573 - acc: 0.5469\n",
      "Epoch 14/20\n",
      "3849/3849 [==============================] - 0s 55us/step - loss: 0.9514 - acc: 0.5466\n",
      "Epoch 15/20\n",
      "3849/3849 [==============================] - 0s 51us/step - loss: 0.9477 - acc: 0.5607\n",
      "Epoch 16/20\n",
      "3849/3849 [==============================] - 0s 49us/step - loss: 0.9452 - acc: 0.5578\n",
      "Epoch 17/20\n",
      "3849/3849 [==============================] - 0s 49us/step - loss: 0.9358 - acc: 0.5674\n",
      "Epoch 18/20\n",
      "3849/3849 [==============================] - 0s 52us/step - loss: 0.9305 - acc: 0.5588\n",
      "Epoch 19/20\n",
      "3849/3849 [==============================] - 0s 52us/step - loss: 0.9334 - acc: 0.5575\n",
      "Epoch 20/20\n",
      "3849/3849 [==============================] - 0s 66us/step - loss: 0.9296 - acc: 0.5578\n"
     ]
    },
    {
     "data": {
      "text/plain": [
       "<keras.callbacks.History at 0x20f917c0438>"
      ]
     },
     "execution_count": 104,
     "metadata": {},
     "output_type": "execute_result"
    }
   ],
   "source": []
  },
  {
   "cell_type": "code",
   "execution_count": null,
   "metadata": {
    "collapsed": true
   },
   "outputs": [],
   "source": []
  },
  {
   "cell_type": "code",
   "execution_count": null,
   "metadata": {
    "collapsed": true
   },
   "outputs": [],
   "source": []
  },
  {
   "cell_type": "code",
   "execution_count": null,
   "metadata": {
    "collapsed": true
   },
   "outputs": [],
   "source": []
  },
  {
   "cell_type": "code",
   "execution_count": null,
   "metadata": {
    "collapsed": true
   },
   "outputs": [],
   "source": []
  }
 ],
 "metadata": {
  "kernelspec": {
   "display_name": "Python 3",
   "language": "python",
   "name": "python3"
  },
  "language_info": {
   "codemirror_mode": {
    "name": "ipython",
    "version": 3
   },
   "file_extension": ".py",
   "mimetype": "text/x-python",
   "name": "python",
   "nbconvert_exporter": "python",
   "pygments_lexer": "ipython3",
   "version": "3.6.3"
  }
 },
 "nbformat": 4,
 "nbformat_minor": 2
}
