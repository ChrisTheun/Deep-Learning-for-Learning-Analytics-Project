{
 "cells": [
  {
   "cell_type": "code",
   "execution_count": 48,
   "metadata": {
    "collapsed": true
   },
   "outputs": [],
   "source": [
    "import numpy as np\n",
    "import pandas as pd\n",
    "import keras"
   ]
  },
  {
   "cell_type": "markdown",
   "metadata": {},
   "source": [
    "# Importing Data"
   ]
  },
  {
   "cell_type": "code",
   "execution_count": 49,
   "metadata": {
    "collapsed": true
   },
   "outputs": [],
   "source": [
    "BBB_Train = pd.read_csv(\"BBB_LSTM_Input_Train.csv\", index_col=0)\n",
    "DDD_Train = pd.read_csv(\"DDD_LSTM_Input_Train.csv\", index_col=0)\n",
    "FFF_Train = pd.read_csv(\"FFF_LSTM_Input_Train.csv\", index_col=0)\n",
    "\n",
    "BBB_Test = pd.read_csv(\"BBB_LSTM_Input_Test.csv\", index_col=0)\n",
    "DDD_Test = pd.read_csv(\"DDD_LSTM_Input_Test.csv\", index_col=0)\n",
    "FFF_Test = pd.read_csv(\"FFF_LSTM_Input_Test.csv\", index_col=0)"
   ]
  },
  {
   "cell_type": "markdown",
   "metadata": {},
   "source": [
    "# Transforming Data"
   ]
  },
  {
   "cell_type": "code",
   "execution_count": 50,
   "metadata": {
    "collapsed": true
   },
   "outputs": [],
   "source": [
    "BBB_Train_df = BBB_Train.iloc[:,3:6]\n",
    "DDD_Train_df = DDD_Train.iloc[:,3:6]\n",
    "FFF_Train_df = FFF_Train.iloc[:,3:6]\n",
    "\n",
    "BBB_Test_df = BBB_Test.iloc[:,3:6]\n",
    "DDD_Test_df = DDD_Test.iloc[:,3:6]\n",
    "FFF_Test_df = FFF_Test.iloc[:,3:6]"
   ]
  },
  {
   "cell_type": "code",
   "execution_count": 51,
   "metadata": {
    "collapsed": true
   },
   "outputs": [],
   "source": [
    "BBB_Train_Targets = BBB_Train[\"final_result\"][0::11]\n",
    "DDD_Train_Targets = DDD_Train[\"final_result\"][0::11]\n",
    "FFF_Train_Targets = FFF_Train[\"final_result\"][0::11]\n",
    "\n",
    "BBB_Test_Targets = BBB_Test[\"final_result\"][0::11]\n",
    "DDD_Test_Targets = DDD_Test[\"final_result\"][0::11]\n",
    "FFF_Test_Targets = FFF_Test[\"final_result\"][0::11]"
   ]
  },
  {
   "cell_type": "code",
   "execution_count": 52,
   "metadata": {},
   "outputs": [
    {
     "data": {
      "text/plain": [
       "0             Fail\n",
       "11            Pass\n",
       "22            Fail\n",
       "33     Distinction\n",
       "44            Pass\n",
       "55            Pass\n",
       "66            Fail\n",
       "77            Pass\n",
       "88            Fail\n",
       "99            Pass\n",
       "110           Pass\n",
       "121           Pass\n",
       "132           Pass\n",
       "143           Pass\n",
       "154           Pass\n",
       "165           Pass\n",
       "176           Pass\n",
       "187           Fail\n",
       "198           Fail\n",
       "209           Pass\n",
       "Name: final_result, dtype: object"
      ]
     },
     "execution_count": 52,
     "metadata": {},
     "output_type": "execute_result"
    }
   ],
   "source": [
    "FFF_Train_Targets.head(n=20)"
   ]
  },
  {
   "cell_type": "code",
   "execution_count": 53,
   "metadata": {},
   "outputs": [
    {
     "data": {
      "text/html": [
       "<div>\n",
       "<style scoped>\n",
       "    .dataframe tbody tr th:only-of-type {\n",
       "        vertical-align: middle;\n",
       "    }\n",
       "\n",
       "    .dataframe tbody tr th {\n",
       "        vertical-align: top;\n",
       "    }\n",
       "\n",
       "    .dataframe thead th {\n",
       "        text-align: right;\n",
       "    }\n",
       "</style>\n",
       "<table border=\"1\" class=\"dataframe\">\n",
       "  <thead>\n",
       "    <tr style=\"text-align: right;\">\n",
       "      <th></th>\n",
       "      <th>Decile</th>\n",
       "      <th>Avg_Clicks</th>\n",
       "      <th>Asgmts</th>\n",
       "      <th>Avg_Asgmt_Score</th>\n",
       "    </tr>\n",
       "  </thead>\n",
       "  <tbody>\n",
       "    <tr>\n",
       "      <th>0</th>\n",
       "      <td>0</td>\n",
       "      <td>2.159091</td>\n",
       "      <td>0</td>\n",
       "      <td>0.000000</td>\n",
       "    </tr>\n",
       "    <tr>\n",
       "      <th>1</th>\n",
       "      <td>1</td>\n",
       "      <td>23.260870</td>\n",
       "      <td>1</td>\n",
       "      <td>70.000000</td>\n",
       "    </tr>\n",
       "    <tr>\n",
       "      <th>2</th>\n",
       "      <td>2</td>\n",
       "      <td>0.708333</td>\n",
       "      <td>0</td>\n",
       "      <td>70.000000</td>\n",
       "    </tr>\n",
       "    <tr>\n",
       "      <th>3</th>\n",
       "      <td>3</td>\n",
       "      <td>0.708333</td>\n",
       "      <td>0</td>\n",
       "      <td>70.000000</td>\n",
       "    </tr>\n",
       "    <tr>\n",
       "      <th>4</th>\n",
       "      <td>4</td>\n",
       "      <td>6.958333</td>\n",
       "      <td>0</td>\n",
       "      <td>70.000000</td>\n",
       "    </tr>\n",
       "    <tr>\n",
       "      <th>5</th>\n",
       "      <td>5</td>\n",
       "      <td>1.208333</td>\n",
       "      <td>1</td>\n",
       "      <td>49.000000</td>\n",
       "    </tr>\n",
       "    <tr>\n",
       "      <th>6</th>\n",
       "      <td>6</td>\n",
       "      <td>0.000000</td>\n",
       "      <td>0</td>\n",
       "      <td>49.000000</td>\n",
       "    </tr>\n",
       "    <tr>\n",
       "      <th>7</th>\n",
       "      <td>7</td>\n",
       "      <td>0.000000</td>\n",
       "      <td>0</td>\n",
       "      <td>49.000000</td>\n",
       "    </tr>\n",
       "    <tr>\n",
       "      <th>8</th>\n",
       "      <td>8</td>\n",
       "      <td>0.000000</td>\n",
       "      <td>0</td>\n",
       "      <td>49.000000</td>\n",
       "    </tr>\n",
       "    <tr>\n",
       "      <th>9</th>\n",
       "      <td>9</td>\n",
       "      <td>0.000000</td>\n",
       "      <td>0</td>\n",
       "      <td>49.000000</td>\n",
       "    </tr>\n",
       "    <tr>\n",
       "      <th>10</th>\n",
       "      <td>10</td>\n",
       "      <td>0.000000</td>\n",
       "      <td>0</td>\n",
       "      <td>49.000000</td>\n",
       "    </tr>\n",
       "    <tr>\n",
       "      <th>11</th>\n",
       "      <td>0</td>\n",
       "      <td>6.196262</td>\n",
       "      <td>0</td>\n",
       "      <td>0.000000</td>\n",
       "    </tr>\n",
       "    <tr>\n",
       "      <th>12</th>\n",
       "      <td>1</td>\n",
       "      <td>34.086957</td>\n",
       "      <td>1</td>\n",
       "      <td>88.000000</td>\n",
       "    </tr>\n",
       "    <tr>\n",
       "      <th>13</th>\n",
       "      <td>2</td>\n",
       "      <td>22.625000</td>\n",
       "      <td>2</td>\n",
       "      <td>88.666667</td>\n",
       "    </tr>\n",
       "    <tr>\n",
       "      <th>14</th>\n",
       "      <td>3</td>\n",
       "      <td>20.208333</td>\n",
       "      <td>1</td>\n",
       "      <td>88.000000</td>\n",
       "    </tr>\n",
       "    <tr>\n",
       "      <th>15</th>\n",
       "      <td>4</td>\n",
       "      <td>29.416667</td>\n",
       "      <td>2</td>\n",
       "      <td>88.666667</td>\n",
       "    </tr>\n",
       "    <tr>\n",
       "      <th>16</th>\n",
       "      <td>5</td>\n",
       "      <td>19.583333</td>\n",
       "      <td>0</td>\n",
       "      <td>88.666667</td>\n",
       "    </tr>\n",
       "    <tr>\n",
       "      <th>17</th>\n",
       "      <td>6</td>\n",
       "      <td>26.708333</td>\n",
       "      <td>2</td>\n",
       "      <td>87.875000</td>\n",
       "    </tr>\n",
       "    <tr>\n",
       "      <th>18</th>\n",
       "      <td>7</td>\n",
       "      <td>12.791667</td>\n",
       "      <td>0</td>\n",
       "      <td>87.875000</td>\n",
       "    </tr>\n",
       "    <tr>\n",
       "      <th>19</th>\n",
       "      <td>8</td>\n",
       "      <td>13.666667</td>\n",
       "      <td>2</td>\n",
       "      <td>87.800000</td>\n",
       "    </tr>\n",
       "  </tbody>\n",
       "</table>\n",
       "</div>"
      ],
      "text/plain": [
       "    Decile  Avg_Clicks  Asgmts  Avg_Asgmt_Score\n",
       "0        0    2.159091       0         0.000000\n",
       "1        1   23.260870       1        70.000000\n",
       "2        2    0.708333       0        70.000000\n",
       "3        3    0.708333       0        70.000000\n",
       "4        4    6.958333       0        70.000000\n",
       "5        5    1.208333       1        49.000000\n",
       "6        6    0.000000       0        49.000000\n",
       "7        7    0.000000       0        49.000000\n",
       "8        8    0.000000       0        49.000000\n",
       "9        9    0.000000       0        49.000000\n",
       "10      10    0.000000       0        49.000000\n",
       "11       0    6.196262       0         0.000000\n",
       "12       1   34.086957       1        88.000000\n",
       "13       2   22.625000       2        88.666667\n",
       "14       3   20.208333       1        88.000000\n",
       "15       4   29.416667       2        88.666667\n",
       "16       5   19.583333       0        88.666667\n",
       "17       6   26.708333       2        87.875000\n",
       "18       7   12.791667       0        87.875000\n",
       "19       8   13.666667       2        87.800000"
      ]
     },
     "execution_count": 53,
     "metadata": {},
     "output_type": "execute_result"
    }
   ],
   "source": [
    "FFF_Train_df.head(n=20)"
   ]
  },
  {
   "cell_type": "code",
   "execution_count": 54,
   "metadata": {},
   "outputs": [
    {
     "data": {
      "text/html": [
       "<div>\n",
       "<style scoped>\n",
       "    .dataframe tbody tr th:only-of-type {\n",
       "        vertical-align: middle;\n",
       "    }\n",
       "\n",
       "    .dataframe tbody tr th {\n",
       "        vertical-align: top;\n",
       "    }\n",
       "\n",
       "    .dataframe thead th {\n",
       "        text-align: right;\n",
       "    }\n",
       "</style>\n",
       "<table border=\"1\" class=\"dataframe\">\n",
       "  <thead>\n",
       "    <tr style=\"text-align: right;\">\n",
       "      <th></th>\n",
       "      <th>num_of_prev_attempts</th>\n",
       "      <th>studied_credits</th>\n",
       "      <th>gender_M</th>\n",
       "      <th>gender_F</th>\n",
       "      <th>highest_education_A Level or Equivalent</th>\n",
       "      <th>highest_education_Lower Than A Level</th>\n",
       "      <th>highest_education_HE Qualification</th>\n",
       "      <th>highest_education_No Formal quals</th>\n",
       "      <th>highest_education_Post Graduate Qualification</th>\n",
       "      <th>imd_band_20-30%</th>\n",
       "      <th>...</th>\n",
       "      <th>imd_band_0-10%</th>\n",
       "      <th>age_band_35-55</th>\n",
       "      <th>age_band_0-35</th>\n",
       "      <th>age_band_55&lt;=</th>\n",
       "      <th>disability_N</th>\n",
       "      <th>disability_Y</th>\n",
       "      <th>year_2013</th>\n",
       "      <th>year_2014</th>\n",
       "      <th>semester_B</th>\n",
       "      <th>semester_J</th>\n",
       "    </tr>\n",
       "  </thead>\n",
       "  <tbody>\n",
       "    <tr>\n",
       "      <th>1</th>\n",
       "      <td>0</td>\n",
       "      <td>120</td>\n",
       "      <td>1</td>\n",
       "      <td>0</td>\n",
       "      <td>1</td>\n",
       "      <td>0</td>\n",
       "      <td>0</td>\n",
       "      <td>0</td>\n",
       "      <td>0</td>\n",
       "      <td>1</td>\n",
       "      <td>...</td>\n",
       "      <td>0</td>\n",
       "      <td>1</td>\n",
       "      <td>0</td>\n",
       "      <td>0</td>\n",
       "      <td>1</td>\n",
       "      <td>0</td>\n",
       "      <td>1</td>\n",
       "      <td>0</td>\n",
       "      <td>1</td>\n",
       "      <td>0</td>\n",
       "    </tr>\n",
       "    <tr>\n",
       "      <th>2</th>\n",
       "      <td>0</td>\n",
       "      <td>60</td>\n",
       "      <td>1</td>\n",
       "      <td>0</td>\n",
       "      <td>1</td>\n",
       "      <td>0</td>\n",
       "      <td>0</td>\n",
       "      <td>0</td>\n",
       "      <td>0</td>\n",
       "      <td>0</td>\n",
       "      <td>...</td>\n",
       "      <td>0</td>\n",
       "      <td>1</td>\n",
       "      <td>0</td>\n",
       "      <td>0</td>\n",
       "      <td>1</td>\n",
       "      <td>0</td>\n",
       "      <td>1</td>\n",
       "      <td>0</td>\n",
       "      <td>1</td>\n",
       "      <td>0</td>\n",
       "    </tr>\n",
       "    <tr>\n",
       "      <th>3</th>\n",
       "      <td>0</td>\n",
       "      <td>60</td>\n",
       "      <td>1</td>\n",
       "      <td>0</td>\n",
       "      <td>0</td>\n",
       "      <td>1</td>\n",
       "      <td>0</td>\n",
       "      <td>0</td>\n",
       "      <td>0</td>\n",
       "      <td>0</td>\n",
       "      <td>...</td>\n",
       "      <td>0</td>\n",
       "      <td>1</td>\n",
       "      <td>0</td>\n",
       "      <td>0</td>\n",
       "      <td>1</td>\n",
       "      <td>0</td>\n",
       "      <td>1</td>\n",
       "      <td>0</td>\n",
       "      <td>1</td>\n",
       "      <td>0</td>\n",
       "    </tr>\n",
       "    <tr>\n",
       "      <th>4</th>\n",
       "      <td>0</td>\n",
       "      <td>60</td>\n",
       "      <td>0</td>\n",
       "      <td>1</td>\n",
       "      <td>1</td>\n",
       "      <td>0</td>\n",
       "      <td>0</td>\n",
       "      <td>0</td>\n",
       "      <td>0</td>\n",
       "      <td>0</td>\n",
       "      <td>...</td>\n",
       "      <td>0</td>\n",
       "      <td>1</td>\n",
       "      <td>0</td>\n",
       "      <td>0</td>\n",
       "      <td>1</td>\n",
       "      <td>0</td>\n",
       "      <td>1</td>\n",
       "      <td>0</td>\n",
       "      <td>1</td>\n",
       "      <td>0</td>\n",
       "    </tr>\n",
       "    <tr>\n",
       "      <th>5</th>\n",
       "      <td>0</td>\n",
       "      <td>60</td>\n",
       "      <td>0</td>\n",
       "      <td>1</td>\n",
       "      <td>0</td>\n",
       "      <td>0</td>\n",
       "      <td>1</td>\n",
       "      <td>0</td>\n",
       "      <td>0</td>\n",
       "      <td>0</td>\n",
       "      <td>...</td>\n",
       "      <td>0</td>\n",
       "      <td>1</td>\n",
       "      <td>0</td>\n",
       "      <td>0</td>\n",
       "      <td>1</td>\n",
       "      <td>0</td>\n",
       "      <td>1</td>\n",
       "      <td>0</td>\n",
       "      <td>1</td>\n",
       "      <td>0</td>\n",
       "    </tr>\n",
       "    <tr>\n",
       "      <th>6</th>\n",
       "      <td>1</td>\n",
       "      <td>60</td>\n",
       "      <td>1</td>\n",
       "      <td>0</td>\n",
       "      <td>1</td>\n",
       "      <td>0</td>\n",
       "      <td>0</td>\n",
       "      <td>0</td>\n",
       "      <td>0</td>\n",
       "      <td>0</td>\n",
       "      <td>...</td>\n",
       "      <td>0</td>\n",
       "      <td>1</td>\n",
       "      <td>0</td>\n",
       "      <td>0</td>\n",
       "      <td>1</td>\n",
       "      <td>0</td>\n",
       "      <td>1</td>\n",
       "      <td>0</td>\n",
       "      <td>1</td>\n",
       "      <td>0</td>\n",
       "    </tr>\n",
       "    <tr>\n",
       "      <th>7</th>\n",
       "      <td>1</td>\n",
       "      <td>150</td>\n",
       "      <td>1</td>\n",
       "      <td>0</td>\n",
       "      <td>1</td>\n",
       "      <td>0</td>\n",
       "      <td>0</td>\n",
       "      <td>0</td>\n",
       "      <td>0</td>\n",
       "      <td>0</td>\n",
       "      <td>...</td>\n",
       "      <td>0</td>\n",
       "      <td>1</td>\n",
       "      <td>0</td>\n",
       "      <td>0</td>\n",
       "      <td>1</td>\n",
       "      <td>0</td>\n",
       "      <td>1</td>\n",
       "      <td>0</td>\n",
       "      <td>1</td>\n",
       "      <td>0</td>\n",
       "    </tr>\n",
       "    <tr>\n",
       "      <th>8</th>\n",
       "      <td>0</td>\n",
       "      <td>90</td>\n",
       "      <td>1</td>\n",
       "      <td>0</td>\n",
       "      <td>0</td>\n",
       "      <td>0</td>\n",
       "      <td>1</td>\n",
       "      <td>0</td>\n",
       "      <td>0</td>\n",
       "      <td>0</td>\n",
       "      <td>...</td>\n",
       "      <td>0</td>\n",
       "      <td>1</td>\n",
       "      <td>0</td>\n",
       "      <td>0</td>\n",
       "      <td>1</td>\n",
       "      <td>0</td>\n",
       "      <td>1</td>\n",
       "      <td>0</td>\n",
       "      <td>1</td>\n",
       "      <td>0</td>\n",
       "    </tr>\n",
       "    <tr>\n",
       "      <th>9</th>\n",
       "      <td>1</td>\n",
       "      <td>310</td>\n",
       "      <td>1</td>\n",
       "      <td>0</td>\n",
       "      <td>0</td>\n",
       "      <td>1</td>\n",
       "      <td>0</td>\n",
       "      <td>0</td>\n",
       "      <td>0</td>\n",
       "      <td>0</td>\n",
       "      <td>...</td>\n",
       "      <td>0</td>\n",
       "      <td>0</td>\n",
       "      <td>1</td>\n",
       "      <td>0</td>\n",
       "      <td>1</td>\n",
       "      <td>0</td>\n",
       "      <td>1</td>\n",
       "      <td>0</td>\n",
       "      <td>1</td>\n",
       "      <td>0</td>\n",
       "    </tr>\n",
       "    <tr>\n",
       "      <th>10</th>\n",
       "      <td>1</td>\n",
       "      <td>150</td>\n",
       "      <td>1</td>\n",
       "      <td>0</td>\n",
       "      <td>0</td>\n",
       "      <td>0</td>\n",
       "      <td>1</td>\n",
       "      <td>0</td>\n",
       "      <td>0</td>\n",
       "      <td>0</td>\n",
       "      <td>...</td>\n",
       "      <td>0</td>\n",
       "      <td>0</td>\n",
       "      <td>1</td>\n",
       "      <td>0</td>\n",
       "      <td>1</td>\n",
       "      <td>0</td>\n",
       "      <td>1</td>\n",
       "      <td>0</td>\n",
       "      <td>1</td>\n",
       "      <td>0</td>\n",
       "    </tr>\n",
       "    <tr>\n",
       "      <th>11</th>\n",
       "      <td>1</td>\n",
       "      <td>60</td>\n",
       "      <td>1</td>\n",
       "      <td>0</td>\n",
       "      <td>0</td>\n",
       "      <td>0</td>\n",
       "      <td>1</td>\n",
       "      <td>0</td>\n",
       "      <td>0</td>\n",
       "      <td>0</td>\n",
       "      <td>...</td>\n",
       "      <td>0</td>\n",
       "      <td>1</td>\n",
       "      <td>0</td>\n",
       "      <td>0</td>\n",
       "      <td>1</td>\n",
       "      <td>0</td>\n",
       "      <td>1</td>\n",
       "      <td>0</td>\n",
       "      <td>1</td>\n",
       "      <td>0</td>\n",
       "    </tr>\n",
       "    <tr>\n",
       "      <th>12</th>\n",
       "      <td>0</td>\n",
       "      <td>60</td>\n",
       "      <td>1</td>\n",
       "      <td>0</td>\n",
       "      <td>1</td>\n",
       "      <td>0</td>\n",
       "      <td>0</td>\n",
       "      <td>0</td>\n",
       "      <td>0</td>\n",
       "      <td>0</td>\n",
       "      <td>...</td>\n",
       "      <td>0</td>\n",
       "      <td>1</td>\n",
       "      <td>0</td>\n",
       "      <td>0</td>\n",
       "      <td>1</td>\n",
       "      <td>0</td>\n",
       "      <td>1</td>\n",
       "      <td>0</td>\n",
       "      <td>1</td>\n",
       "      <td>0</td>\n",
       "    </tr>\n",
       "    <tr>\n",
       "      <th>13</th>\n",
       "      <td>0</td>\n",
       "      <td>60</td>\n",
       "      <td>1</td>\n",
       "      <td>0</td>\n",
       "      <td>0</td>\n",
       "      <td>1</td>\n",
       "      <td>0</td>\n",
       "      <td>0</td>\n",
       "      <td>0</td>\n",
       "      <td>0</td>\n",
       "      <td>...</td>\n",
       "      <td>0</td>\n",
       "      <td>0</td>\n",
       "      <td>1</td>\n",
       "      <td>0</td>\n",
       "      <td>1</td>\n",
       "      <td>0</td>\n",
       "      <td>1</td>\n",
       "      <td>0</td>\n",
       "      <td>1</td>\n",
       "      <td>0</td>\n",
       "    </tr>\n",
       "    <tr>\n",
       "      <th>14</th>\n",
       "      <td>0</td>\n",
       "      <td>60</td>\n",
       "      <td>1</td>\n",
       "      <td>0</td>\n",
       "      <td>0</td>\n",
       "      <td>1</td>\n",
       "      <td>0</td>\n",
       "      <td>0</td>\n",
       "      <td>0</td>\n",
       "      <td>0</td>\n",
       "      <td>...</td>\n",
       "      <td>0</td>\n",
       "      <td>0</td>\n",
       "      <td>1</td>\n",
       "      <td>0</td>\n",
       "      <td>1</td>\n",
       "      <td>0</td>\n",
       "      <td>1</td>\n",
       "      <td>0</td>\n",
       "      <td>1</td>\n",
       "      <td>0</td>\n",
       "    </tr>\n",
       "    <tr>\n",
       "      <th>15</th>\n",
       "      <td>0</td>\n",
       "      <td>60</td>\n",
       "      <td>1</td>\n",
       "      <td>0</td>\n",
       "      <td>0</td>\n",
       "      <td>0</td>\n",
       "      <td>1</td>\n",
       "      <td>0</td>\n",
       "      <td>0</td>\n",
       "      <td>0</td>\n",
       "      <td>...</td>\n",
       "      <td>0</td>\n",
       "      <td>1</td>\n",
       "      <td>0</td>\n",
       "      <td>0</td>\n",
       "      <td>1</td>\n",
       "      <td>0</td>\n",
       "      <td>1</td>\n",
       "      <td>0</td>\n",
       "      <td>1</td>\n",
       "      <td>0</td>\n",
       "    </tr>\n",
       "    <tr>\n",
       "      <th>16</th>\n",
       "      <td>0</td>\n",
       "      <td>60</td>\n",
       "      <td>1</td>\n",
       "      <td>0</td>\n",
       "      <td>1</td>\n",
       "      <td>0</td>\n",
       "      <td>0</td>\n",
       "      <td>0</td>\n",
       "      <td>0</td>\n",
       "      <td>0</td>\n",
       "      <td>...</td>\n",
       "      <td>0</td>\n",
       "      <td>1</td>\n",
       "      <td>0</td>\n",
       "      <td>0</td>\n",
       "      <td>1</td>\n",
       "      <td>0</td>\n",
       "      <td>1</td>\n",
       "      <td>0</td>\n",
       "      <td>1</td>\n",
       "      <td>0</td>\n",
       "    </tr>\n",
       "    <tr>\n",
       "      <th>17</th>\n",
       "      <td>0</td>\n",
       "      <td>60</td>\n",
       "      <td>1</td>\n",
       "      <td>0</td>\n",
       "      <td>1</td>\n",
       "      <td>0</td>\n",
       "      <td>0</td>\n",
       "      <td>0</td>\n",
       "      <td>0</td>\n",
       "      <td>0</td>\n",
       "      <td>...</td>\n",
       "      <td>0</td>\n",
       "      <td>0</td>\n",
       "      <td>1</td>\n",
       "      <td>0</td>\n",
       "      <td>1</td>\n",
       "      <td>0</td>\n",
       "      <td>1</td>\n",
       "      <td>0</td>\n",
       "      <td>1</td>\n",
       "      <td>0</td>\n",
       "    </tr>\n",
       "    <tr>\n",
       "      <th>18</th>\n",
       "      <td>1</td>\n",
       "      <td>120</td>\n",
       "      <td>1</td>\n",
       "      <td>0</td>\n",
       "      <td>0</td>\n",
       "      <td>0</td>\n",
       "      <td>1</td>\n",
       "      <td>0</td>\n",
       "      <td>0</td>\n",
       "      <td>0</td>\n",
       "      <td>...</td>\n",
       "      <td>0</td>\n",
       "      <td>1</td>\n",
       "      <td>0</td>\n",
       "      <td>0</td>\n",
       "      <td>1</td>\n",
       "      <td>0</td>\n",
       "      <td>1</td>\n",
       "      <td>0</td>\n",
       "      <td>1</td>\n",
       "      <td>0</td>\n",
       "    </tr>\n",
       "    <tr>\n",
       "      <th>19</th>\n",
       "      <td>0</td>\n",
       "      <td>60</td>\n",
       "      <td>1</td>\n",
       "      <td>0</td>\n",
       "      <td>1</td>\n",
       "      <td>0</td>\n",
       "      <td>0</td>\n",
       "      <td>0</td>\n",
       "      <td>0</td>\n",
       "      <td>0</td>\n",
       "      <td>...</td>\n",
       "      <td>0</td>\n",
       "      <td>1</td>\n",
       "      <td>0</td>\n",
       "      <td>0</td>\n",
       "      <td>1</td>\n",
       "      <td>0</td>\n",
       "      <td>1</td>\n",
       "      <td>0</td>\n",
       "      <td>1</td>\n",
       "      <td>0</td>\n",
       "    </tr>\n",
       "    <tr>\n",
       "      <th>20</th>\n",
       "      <td>0</td>\n",
       "      <td>60</td>\n",
       "      <td>0</td>\n",
       "      <td>1</td>\n",
       "      <td>0</td>\n",
       "      <td>1</td>\n",
       "      <td>0</td>\n",
       "      <td>0</td>\n",
       "      <td>0</td>\n",
       "      <td>1</td>\n",
       "      <td>...</td>\n",
       "      <td>0</td>\n",
       "      <td>1</td>\n",
       "      <td>0</td>\n",
       "      <td>0</td>\n",
       "      <td>1</td>\n",
       "      <td>0</td>\n",
       "      <td>1</td>\n",
       "      <td>0</td>\n",
       "      <td>1</td>\n",
       "      <td>0</td>\n",
       "    </tr>\n",
       "  </tbody>\n",
       "</table>\n",
       "<p>20 rows × 29 columns</p>\n",
       "</div>"
      ],
      "text/plain": [
       "    num_of_prev_attempts  studied_credits  gender_M  gender_F  \\\n",
       "1                      0              120         1         0   \n",
       "2                      0               60         1         0   \n",
       "3                      0               60         1         0   \n",
       "4                      0               60         0         1   \n",
       "5                      0               60         0         1   \n",
       "6                      1               60         1         0   \n",
       "7                      1              150         1         0   \n",
       "8                      0               90         1         0   \n",
       "9                      1              310         1         0   \n",
       "10                     1              150         1         0   \n",
       "11                     1               60         1         0   \n",
       "12                     0               60         1         0   \n",
       "13                     0               60         1         0   \n",
       "14                     0               60         1         0   \n",
       "15                     0               60         1         0   \n",
       "16                     0               60         1         0   \n",
       "17                     0               60         1         0   \n",
       "18                     1              120         1         0   \n",
       "19                     0               60         1         0   \n",
       "20                     0               60         0         1   \n",
       "\n",
       "    highest_education_A Level or Equivalent  \\\n",
       "1                                         1   \n",
       "2                                         1   \n",
       "3                                         0   \n",
       "4                                         1   \n",
       "5                                         0   \n",
       "6                                         1   \n",
       "7                                         1   \n",
       "8                                         0   \n",
       "9                                         0   \n",
       "10                                        0   \n",
       "11                                        0   \n",
       "12                                        1   \n",
       "13                                        0   \n",
       "14                                        0   \n",
       "15                                        0   \n",
       "16                                        1   \n",
       "17                                        1   \n",
       "18                                        0   \n",
       "19                                        1   \n",
       "20                                        0   \n",
       "\n",
       "    highest_education_Lower Than A Level  highest_education_HE Qualification  \\\n",
       "1                                      0                                   0   \n",
       "2                                      0                                   0   \n",
       "3                                      1                                   0   \n",
       "4                                      0                                   0   \n",
       "5                                      0                                   1   \n",
       "6                                      0                                   0   \n",
       "7                                      0                                   0   \n",
       "8                                      0                                   1   \n",
       "9                                      1                                   0   \n",
       "10                                     0                                   1   \n",
       "11                                     0                                   1   \n",
       "12                                     0                                   0   \n",
       "13                                     1                                   0   \n",
       "14                                     1                                   0   \n",
       "15                                     0                                   1   \n",
       "16                                     0                                   0   \n",
       "17                                     0                                   0   \n",
       "18                                     0                                   1   \n",
       "19                                     0                                   0   \n",
       "20                                     1                                   0   \n",
       "\n",
       "    highest_education_No Formal quals  \\\n",
       "1                                   0   \n",
       "2                                   0   \n",
       "3                                   0   \n",
       "4                                   0   \n",
       "5                                   0   \n",
       "6                                   0   \n",
       "7                                   0   \n",
       "8                                   0   \n",
       "9                                   0   \n",
       "10                                  0   \n",
       "11                                  0   \n",
       "12                                  0   \n",
       "13                                  0   \n",
       "14                                  0   \n",
       "15                                  0   \n",
       "16                                  0   \n",
       "17                                  0   \n",
       "18                                  0   \n",
       "19                                  0   \n",
       "20                                  0   \n",
       "\n",
       "    highest_education_Post Graduate Qualification  imd_band_20-30%  \\\n",
       "1                                               0                1   \n",
       "2                                               0                0   \n",
       "3                                               0                0   \n",
       "4                                               0                0   \n",
       "5                                               0                0   \n",
       "6                                               0                0   \n",
       "7                                               0                0   \n",
       "8                                               0                0   \n",
       "9                                               0                0   \n",
       "10                                              0                0   \n",
       "11                                              0                0   \n",
       "12                                              0                0   \n",
       "13                                              0                0   \n",
       "14                                              0                0   \n",
       "15                                              0                0   \n",
       "16                                              0                0   \n",
       "17                                              0                0   \n",
       "18                                              0                0   \n",
       "19                                              0                0   \n",
       "20                                              0                1   \n",
       "\n",
       "       ...      imd_band_0-10%  age_band_35-55  age_band_0-35  age_band_55<=  \\\n",
       "1      ...                   0               1              0              0   \n",
       "2      ...                   0               1              0              0   \n",
       "3      ...                   0               1              0              0   \n",
       "4      ...                   0               1              0              0   \n",
       "5      ...                   0               1              0              0   \n",
       "6      ...                   0               1              0              0   \n",
       "7      ...                   0               1              0              0   \n",
       "8      ...                   0               1              0              0   \n",
       "9      ...                   0               0              1              0   \n",
       "10     ...                   0               0              1              0   \n",
       "11     ...                   0               1              0              0   \n",
       "12     ...                   0               1              0              0   \n",
       "13     ...                   0               0              1              0   \n",
       "14     ...                   0               0              1              0   \n",
       "15     ...                   0               1              0              0   \n",
       "16     ...                   0               1              0              0   \n",
       "17     ...                   0               0              1              0   \n",
       "18     ...                   0               1              0              0   \n",
       "19     ...                   0               1              0              0   \n",
       "20     ...                   0               1              0              0   \n",
       "\n",
       "    disability_N  disability_Y  year_2013  year_2014  semester_B  semester_J  \n",
       "1              1             0          1          0           1           0  \n",
       "2              1             0          1          0           1           0  \n",
       "3              1             0          1          0           1           0  \n",
       "4              1             0          1          0           1           0  \n",
       "5              1             0          1          0           1           0  \n",
       "6              1             0          1          0           1           0  \n",
       "7              1             0          1          0           1           0  \n",
       "8              1             0          1          0           1           0  \n",
       "9              1             0          1          0           1           0  \n",
       "10             1             0          1          0           1           0  \n",
       "11             1             0          1          0           1           0  \n",
       "12             1             0          1          0           1           0  \n",
       "13             1             0          1          0           1           0  \n",
       "14             1             0          1          0           1           0  \n",
       "15             1             0          1          0           1           0  \n",
       "16             1             0          1          0           1           0  \n",
       "17             1             0          1          0           1           0  \n",
       "18             1             0          1          0           1           0  \n",
       "19             1             0          1          0           1           0  \n",
       "20             1             0          1          0           1           0  \n",
       "\n",
       "[20 rows x 29 columns]"
      ]
     },
     "execution_count": 54,
     "metadata": {},
     "output_type": "execute_result"
    }
   ],
   "source": [
    "FFF_AUX_Train.head(n=20)"
   ]
  },
  {
   "cell_type": "markdown",
   "metadata": {},
   "source": [
    "Number of students in the courses across all 4 semesters"
   ]
  },
  {
   "cell_type": "code",
   "execution_count": 56,
   "metadata": {},
   "outputs": [
    {
     "name": "stdout",
     "output_type": "stream",
     "text": [
      "BBB Train\n",
      "\n",
      "Decile             3978.0\n",
      "Avg_Clicks         3978.0\n",
      "Asgmts             3978.0\n",
      "Avg_Asgmt_Score    3978.0\n",
      "dtype: float64 \n",
      "\n",
      "DDD Train\n",
      "\n",
      "Decile             2866.0\n",
      "Avg_Clicks         2866.0\n",
      "Asgmts             2866.0\n",
      "Avg_Asgmt_Score    2866.0\n",
      "dtype: float64 \n",
      "\n",
      "FFF Train\n",
      "\n",
      "Decile             3849.0\n",
      "Avg_Clicks         3849.0\n",
      "Asgmts             3849.0\n",
      "Avg_Asgmt_Score    3849.0\n",
      "dtype: float64 \n",
      "\n",
      "BBB Test\n",
      "\n",
      "Decile             1543.0\n",
      "Avg_Clicks         1543.0\n",
      "Asgmts             1543.0\n",
      "Avg_Asgmt_Score    1543.0\n",
      "dtype: float64 \n",
      "\n",
      "DDD Test\n",
      "\n",
      "Decile             1156.0\n",
      "Avg_Clicks         1156.0\n",
      "Asgmts             1156.0\n",
      "Avg_Asgmt_Score    1156.0\n",
      "dtype: float64 \n",
      "\n",
      "FFF Test\n",
      "\n",
      "Decile             1510.0\n",
      "Avg_Clicks         1510.0\n",
      "Asgmts             1510.0\n",
      "Avg_Asgmt_Score    1510.0\n",
      "dtype: float64 \n",
      "\n"
     ]
    }
   ],
   "source": [
    "print(\"BBB Train\\n\")\n",
    "print(BBB_Train_df.count()/11,\"\\n\")\n",
    "\n",
    "print(\"DDD Train\\n\")\n",
    "print(DDD_Train_df.count()/11,\"\\n\")\n",
    "\n",
    "print(\"FFF Train\\n\")\n",
    "print(FFF_Train_df.count()/11,\"\\n\")\n",
    "\n",
    "print(\"BBB Test\\n\")\n",
    "print(BBB_Test_df.count()/11,\"\\n\")\n",
    "\n",
    "print(\"DDD Test\\n\")\n",
    "print(DDD_Test_df.count()/11,\"\\n\")\n",
    "\n",
    "print(\"FFF Test\\n\")\n",
    "print(FFF_Test_df.count()/11,\"\\n\")"
   ]
  },
  {
   "cell_type": "markdown",
   "metadata": {},
   "source": [
    "Convert dataframes into 2D arrays"
   ]
  },
  {
   "cell_type": "code",
   "execution_count": 57,
   "metadata": {
    "collapsed": true
   },
   "outputs": [],
   "source": [
    "BBB_Train_2D = BBB_Train_df.values\n",
    "DDD_Train_2D = DDD_Train_df.values\n",
    "FFF_Train_2D = FFF_Train_df.values\n",
    "\n",
    "BBB_Test_2D = BBB_Test_df.values\n",
    "DDD_Test_2D = DDD_Test_df.values\n",
    "FFF_Test_2D = FFF_Test_df.values"
   ]
  },
  {
   "cell_type": "markdown",
   "metadata": {},
   "source": [
    "Reshape 2D arrays to 3D arrays\n",
    "Format : samples (students), timesteps (deciles), features (clicks & assignments)"
   ]
  },
  {
   "cell_type": "code",
   "execution_count": 58,
   "metadata": {
    "collapsed": true
   },
   "outputs": [],
   "source": [
    "BBB_Train_3D = BBB_Train_2D.reshape(int(BBB_Train_df[\"Avg_Clicks\"].count()/11),11,len(BBB_Train_df.columns))\n",
    "DDD_Train_3D = DDD_Train_2D.reshape(int(DDD_Train_df[\"Avg_Clicks\"].count()/11),11,len(DDD_Train_df.columns))\n",
    "FFF_Train_3D = FFF_Train_2D.reshape(int(FFF_Train_df[\"Avg_Clicks\"].count()/11),11,len(FFF_Train_df.columns))\n",
    "\n",
    "BBB_Test_3D = BBB_Test_2D.reshape(int(BBB_Test_df[\"Avg_Clicks\"].count()/11),11,len(BBB_Test_df.columns))\n",
    "DDD_Test_3D = DDD_Test_2D.reshape(int(DDD_Test_df[\"Avg_Clicks\"].count()/11),11,len(DDD_Test_df.columns))\n",
    "FFF_Test_3D = FFF_Test_2D.reshape(int(FFF_Test_df[\"Avg_Clicks\"].count()/11),11,len(FFF_Test_df.columns))\n"
   ]
  },
  {
   "cell_type": "code",
   "execution_count": 60,
   "metadata": {},
   "outputs": [
    {
     "name": "stdout",
     "output_type": "stream",
     "text": [
      "(3849, 11, 4)\n"
     ]
    }
   ],
   "source": [
    "print(FFF_Train_3D.shape)"
   ]
  },
  {
   "cell_type": "code",
   "execution_count": 61,
   "metadata": {
    "collapsed": true
   },
   "outputs": [],
   "source": [
    "BBB_Train_Targets_1HE = np.array(pd.get_dummies(BBB_Train_Targets))\n",
    "DDD_Train_Targets_1HE = np.array(pd.get_dummies(DDD_Train_Targets))\n",
    "FFF_Train_Targets_1HE = np.array(pd.get_dummies(FFF_Train_Targets))\n",
    "\n",
    "BBB_Test_Targets_1HE = np.array(pd.get_dummies(BBB_Test_Targets))\n",
    "DDD_Test_Targets_1HE = np.array(pd.get_dummies(DDD_Test_Targets))\n",
    "FFF_Test_Targets_1HE = np.array(pd.get_dummies(FFF_Test_Targets))\n"
   ]
  },
  {
   "cell_type": "code",
   "execution_count": 62,
   "metadata": {
    "collapsed": true
   },
   "outputs": [],
   "source": [
    "BBB_Train_Targets_1D = np.array(BBB_Train_Targets)\n",
    "DDD_Train_Targets_1D = np.array(DDD_Train_Targets)\n",
    "FFF_Train_Targets_1D = np.array(FFF_Train_Targets)\n",
    "\n",
    "BBB_Test_Targets_1D = np.array(BBB_Test_Targets)\n",
    "DDD_Test_Targets_1D = np.array(DDD_Test_Targets)\n",
    "FFF_Test_Targets_1D = np.array(FFF_Test_Targets)"
   ]
  },
  {
   "cell_type": "code",
   "execution_count": 63,
   "metadata": {
    "collapsed": true
   },
   "outputs": [],
   "source": [
    "BBB_Train_Targets_1D[BBB_Train_Targets_1D == \"Fail\"] = 1\n",
    "BBB_Train_Targets_1D[BBB_Train_Targets_1D == \"Pass\"] = 2\n",
    "BBB_Train_Targets_1D[BBB_Train_Targets_1D == \"Distinction\"] = 0\n",
    "\n",
    "DDD_Train_Targets_1D[DDD_Train_Targets_1D == \"Fail\"] = 1\n",
    "DDD_Train_Targets_1D[DDD_Train_Targets_1D == \"Pass\"] = 2\n",
    "DDD_Train_Targets_1D[DDD_Train_Targets_1D == \"Distinction\"] = 0\n",
    "\n",
    "FFF_Train_Targets_1D[FFF_Train_Targets_1D == \"Fail\"] = 1\n",
    "FFF_Train_Targets_1D[FFF_Train_Targets_1D == \"Pass\"] = 2\n",
    "FFF_Train_Targets_1D[FFF_Train_Targets_1D == \"Distinction\"] = 0\n",
    "\n",
    "BBB_Test_Targets_1D[BBB_Test_Targets_1D == \"Fail\"] = 1\n",
    "BBB_Test_Targets_1D[BBB_Test_Targets_1D == \"Pass\"] = 2\n",
    "BBB_Test_Targets_1D[BBB_Test_Targets_1D == \"Distinction\"] = 0\n",
    "\n",
    "DDD_Test_Targets_1D[DDD_Test_Targets_1D == \"Fail\"] = 1\n",
    "DDD_Test_Targets_1D[DDD_Test_Targets_1D == \"Pass\"] = 2\n",
    "DDD_Test_Targets_1D[DDD_Test_Targets_1D == \"Distinction\"] = 0\n",
    "\n",
    "FFF_Test_Targets_1D[FFF_Test_Targets_1D == \"Fail\"] = 1\n",
    "FFF_Test_Targets_1D[FFF_Test_Targets_1D == \"Pass\"] = 2\n",
    "FFF_Test_Targets_1D[FFF_Test_Targets_1D == \"Distinction\"] = 0"
   ]
  },
  {
   "cell_type": "code",
   "execution_count": 64,
   "metadata": {
    "collapsed": true
   },
   "outputs": [],
   "source": [
    "BBB_Train_Targets_1D = BBB_Train_Targets_1D.astype('int64')\n",
    "DDD_Train_Targets_1D = DDD_Train_Targets_1D.astype('int64')\n",
    "FFF_Train_Targets_1D = FFF_Train_Targets_1D.astype('int64')\n",
    "\n",
    "BBB_Test_Targets_1D = BBB_Test_Targets_1D.astype('int64')\n",
    "DDD_Test_Targets_1D = DDD_Test_Targets_1D.astype('int64')\n",
    "FFF_Test_Targets_1D = FFF_Test_Targets_1D.astype('int64')"
   ]
  },
  {
   "cell_type": "code",
   "execution_count": null,
   "metadata": {
    "collapsed": true
   },
   "outputs": [],
   "source": []
  },
  {
   "cell_type": "code",
   "execution_count": null,
   "metadata": {
    "collapsed": true
   },
   "outputs": [],
   "source": []
  },
  {
   "cell_type": "code",
   "execution_count": 66,
   "metadata": {},
   "outputs": [
    {
     "name": "stdout",
     "output_type": "stream",
     "text": [
      "(3849,)\n"
     ]
    }
   ],
   "source": [
    "print(FFF_Train_Targets_1D.shape)"
   ]
  },
  {
   "cell_type": "code",
   "execution_count": null,
   "metadata": {
    "collapsed": true
   },
   "outputs": [],
   "source": []
  },
  {
   "cell_type": "markdown",
   "metadata": {},
   "source": [
    "# LSTM"
   ]
  },
  {
   "cell_type": "code",
   "execution_count": 102,
   "metadata": {
    "collapsed": true
   },
   "outputs": [],
   "source": [
    "from sklearn.metrics import classification_report\n",
    "from keras import Sequential\n",
    "from keras.layers import Input,Embedding, LSTM, Dense\n",
    "from keras.models import Model\n",
    "from keras.optimizers import SGD\n",
    "np.random.seed(7)\n",
    "np.set_printoptions(threshold=np.nan)"
   ]
  },
  {
   "cell_type": "code",
   "execution_count": 106,
   "metadata": {},
   "outputs": [
    {
     "data": {
      "text/plain": [
       "3978"
      ]
     },
     "execution_count": 106,
     "metadata": {},
     "output_type": "execute_result"
    }
   ],
   "source": []
  },
  {
   "cell_type": "code",
   "execution_count": 79,
   "metadata": {},
   "outputs": [
    {
     "ename": "NameError",
     "evalue": "name 'Input' is not defined",
     "output_type": "error",
     "traceback": [
      "\u001b[1;31m---------------------------------------------------------------------------\u001b[0m",
      "\u001b[1;31mNameError\u001b[0m                                 Traceback (most recent call last)",
      "\u001b[1;32m<ipython-input-79-711bc2f3cb0d>\u001b[0m in \u001b[0;36m<module>\u001b[1;34m()\u001b[0m\n\u001b[1;32m----> 1\u001b[1;33m \u001b[0mauxiliary_input\u001b[0m \u001b[1;33m=\u001b[0m \u001b[0mInput\u001b[0m\u001b[1;33m(\u001b[0m\u001b[0mshape\u001b[0m\u001b[1;33m=\u001b[0m\u001b[1;33m(\u001b[0m\u001b[1;36m5\u001b[0m\u001b[1;33m,\u001b[0m\u001b[1;33m)\u001b[0m\u001b[1;33m,\u001b[0m \u001b[0mname\u001b[0m\u001b[1;33m=\u001b[0m\u001b[1;34m'aux_input'\u001b[0m\u001b[1;33m)\u001b[0m\u001b[1;33m\u001b[0m\u001b[0m\n\u001b[0m\u001b[0;32m      2\u001b[0m \u001b[1;33m\u001b[0m\u001b[0m\n\u001b[0;32m      3\u001b[0m \u001b[0mmodel\u001b[0m \u001b[1;33m=\u001b[0m \u001b[0mSequential\u001b[0m\u001b[1;33m(\u001b[0m\u001b[1;33m)\u001b[0m\u001b[1;33m\u001b[0m\u001b[0m\n\u001b[0;32m      4\u001b[0m \u001b[0mmodel\u001b[0m\u001b[1;33m.\u001b[0m\u001b[0madd\u001b[0m\u001b[1;33m(\u001b[0m\u001b[0mLSTM\u001b[0m\u001b[1;33m(\u001b[0m\u001b[1;36m32\u001b[0m\u001b[1;33m,\u001b[0m \u001b[0minput_shape\u001b[0m\u001b[1;33m=\u001b[0m\u001b[1;33m(\u001b[0m\u001b[1;36m11\u001b[0m\u001b[1;33m,\u001b[0m\u001b[1;36m4\u001b[0m\u001b[1;33m)\u001b[0m \u001b[1;33m,\u001b[0m \u001b[0mactivation\u001b[0m\u001b[1;33m=\u001b[0m\u001b[1;34m'sigmoid'\u001b[0m\u001b[1;33m)\u001b[0m\u001b[1;33m)\u001b[0m\u001b[1;33m\u001b[0m\u001b[0m\n\u001b[0;32m      5\u001b[0m \u001b[0mmodel\u001b[0m\u001b[1;33m.\u001b[0m\u001b[0madd\u001b[0m\u001b[1;33m(\u001b[0m\u001b[0mDense\u001b[0m\u001b[1;33m(\u001b[0m\u001b[1;36m3\u001b[0m\u001b[1;33m,\u001b[0m \u001b[0mactivation\u001b[0m\u001b[1;33m=\u001b[0m\u001b[1;34m'sigmoid'\u001b[0m\u001b[1;33m)\u001b[0m\u001b[1;33m)\u001b[0m\u001b[1;33m\u001b[0m\u001b[0m\n",
      "\u001b[1;31mNameError\u001b[0m: name 'Input' is not defined"
     ]
    }
   ],
   "source": [
    "model = Sequential()\n",
    "model.add(LSTM(32, input_shape=(11,4) , activation='sigmoid'))\n",
    "model.add(Dense(3, activation='sigmoid'))\n",
    "model.compile(loss='categorical_crossentropy', optimizer='adam', metrics=['accuracy'])"
   ]
  },
  {
   "cell_type": "code",
   "execution_count": 139,
   "metadata": {
    "collapsed": true
   },
   "outputs": [],
   "source": [
    "model = Model(inputs=[LSTM_input, auxiliary_input], outputs=main_output)\n",
    "model.compile(optimizer='rmsprop', loss='categorical_crossentropy')"
   ]
  },
  {
   "cell_type": "code",
   "execution_count": 100,
   "metadata": {
    "collapsed": true
   },
   "outputs": [],
   "source": []
  },
  {
   "cell_type": "markdown",
   "metadata": {
    "collapsed": true
   },
   "source": [
    "# LSTM Course BBB"
   ]
  },
  {
   "cell_type": "markdown",
   "metadata": {},
   "source": [
    "### Train LSTM Course BBB"
   ]
  },
  {
   "cell_type": "code",
   "execution_count": 140,
   "metadata": {},
   "outputs": [
    {
     "name": "stdout",
     "output_type": "stream",
     "text": [
      "Epoch 1/4\n",
      "3978/3978 [==============================] - 16s 4ms/step - loss: 0.9174\n",
      "Epoch 2/4\n",
      "3978/3978 [==============================] - 15s 4ms/step - loss: 0.8375\n",
      "Epoch 3/4\n",
      "3978/3978 [==============================] - 15s 4ms/step - loss: 0.8230\n",
      "Epoch 4/4\n",
      "3978/3978 [==============================] - 15s 4ms/step - loss: 0.8388\n"
     ]
    },
    {
     "data": {
      "text/plain": [
       "<keras.callbacks.History at 0x202190a5978>"
      ]
     },
     "execution_count": 140,
     "metadata": {},
     "output_type": "execute_result"
    }
   ],
   "source": [
    "model.fit(x=[BBB_Train_3D,BBB_AUX_Train], y=BBB_Train_Targets_1HE, epochs=4, batch_size=1, verbose=1)"
   ]
  },
  {
   "cell_type": "code",
   "execution_count": 71,
   "metadata": {},
   "outputs": [
    {
     "name": "stdout",
     "output_type": "stream",
     "text": [
      "Epoch 1/4\n",
      "3978/3978 [==============================] - 16s 4ms/step - loss: 0.7083 - acc: 0.6885\n",
      "Epoch 2/4\n",
      "3978/3978 [==============================] - 15s 4ms/step - loss: 0.5772 - acc: 0.7574\n",
      "Epoch 3/4\n",
      "3978/3978 [==============================] - 16s 4ms/step - loss: 0.5573 - acc: 0.7647\n",
      "Epoch 4/4\n",
      "3978/3978 [==============================] - 15s 4ms/step - loss: 0.5241 - acc: 0.7735\n"
     ]
    },
    {
     "data": {
      "text/plain": [
       "<keras.callbacks.History at 0x20214726320>"
      ]
     },
     "execution_count": 71,
     "metadata": {},
     "output_type": "execute_result"
    }
   ],
   "source": [
    "model.fit(x=BBB_Train_3D, y=BBB_Train_Targets_1HE, epochs=4, batch_size=1, verbose=1)"
   ]
  },
  {
   "cell_type": "markdown",
   "metadata": {
    "collapsed": true
   },
   "source": [
    "### Test LSTM Course BBB"
   ]
  },
  {
   "cell_type": "code",
   "execution_count": 141,
   "metadata": {},
   "outputs": [
    {
     "ename": "AttributeError",
     "evalue": "'Model' object has no attribute 'predict_classes'",
     "output_type": "error",
     "traceback": [
      "\u001b[1;31m---------------------------------------------------------------------------\u001b[0m",
      "\u001b[1;31mAttributeError\u001b[0m                            Traceback (most recent call last)",
      "\u001b[1;32m<ipython-input-141-349237620314>\u001b[0m in \u001b[0;36m<module>\u001b[1;34m()\u001b[0m\n\u001b[1;32m----> 1\u001b[1;33m \u001b[0mmodel\u001b[0m\u001b[1;33m.\u001b[0m\u001b[0mpredict_classes\u001b[0m\u001b[1;33m(\u001b[0m\u001b[0mBBB_Test_3D\u001b[0m\u001b[1;33m)\u001b[0m\u001b[1;33m\u001b[0m\u001b[0m\n\u001b[0m",
      "\u001b[1;31mAttributeError\u001b[0m: 'Model' object has no attribute 'predict_classes'"
     ]
    }
   ],
   "source": [
    "model.predict_classes(BBB_Test_3D)"
   ]
  },
  {
   "cell_type": "code",
   "execution_count": 73,
   "metadata": {},
   "outputs": [
    {
     "name": "stdout",
     "output_type": "stream",
     "text": [
      "Course BBB - 3 Target Classes\n",
      "Classification Report for LSTM predictions:\n",
      "-------------------------------------------\n",
      "             precision    recall  f1-score   support\n",
      "\n",
      "          0       0.00      0.00      0.00       180\n",
      "          1       0.46      0.95      0.62       391\n",
      "          2       0.75      0.56      0.64       972\n",
      "\n",
      "avg / total       0.59      0.60      0.56      1543\n",
      "\n"
     ]
    },
    {
     "name": "stderr",
     "output_type": "stream",
     "text": [
      "C:\\Users\\Chris\\Anaconda3\\lib\\site-packages\\sklearn\\metrics\\classification.py:1135: UndefinedMetricWarning: Precision and F-score are ill-defined and being set to 0.0 in labels with no predicted samples.\n",
      "  'precision', 'predicted', average, warn_for)\n"
     ]
    }
   ],
   "source": [
    "print('Course BBB - 3 Target Classes')\n",
    "print('Classification Report for LSTM predictions:')\n",
    "print('-------------------------------------------')\n",
    "print(classification_report(y_pred=model.predict_classes(BBB_Test_3D), y_true=BBB_Test_Targets_1D))\n"
   ]
  },
  {
   "cell_type": "markdown",
   "metadata": {},
   "source": [
    "# LSTM Course DDD"
   ]
  },
  {
   "cell_type": "markdown",
   "metadata": {
    "collapsed": true
   },
   "source": [
    "### Train LSTM Course DDD"
   ]
  },
  {
   "cell_type": "code",
   "execution_count": 74,
   "metadata": {},
   "outputs": [
    {
     "name": "stdout",
     "output_type": "stream",
     "text": [
      "Epoch 1/4\n",
      "2866/2866 [==============================] - 11s 4ms/step - loss: 0.4674 - acc: 0.7994\n",
      "Epoch 2/4\n",
      "2866/2866 [==============================] - 11s 4ms/step - loss: 0.4334 - acc: 0.8172\n",
      "Epoch 3/4\n",
      "2866/2866 [==============================] - 10s 4ms/step - loss: 0.4189 - acc: 0.8241\n",
      "Epoch 4/4\n",
      "2866/2866 [==============================] - 10s 4ms/step - loss: 0.4065 - acc: 0.8238\n"
     ]
    },
    {
     "data": {
      "text/plain": [
       "<keras.callbacks.History at 0x202147260f0>"
      ]
     },
     "execution_count": 74,
     "metadata": {},
     "output_type": "execute_result"
    }
   ],
   "source": [
    "model.fit(DDD_Train_3D, DDD_Train_Targets_1HE, epochs=4, batch_size=1, verbose=1)"
   ]
  },
  {
   "cell_type": "markdown",
   "metadata": {
    "collapsed": true
   },
   "source": [
    "### Test LSTM Course DDD"
   ]
  },
  {
   "cell_type": "code",
   "execution_count": 75,
   "metadata": {},
   "outputs": [
    {
     "data": {
      "text/plain": [
       "array([2, 1, 2, 1, 2, 2, 2, 2, 2, 1, 2, 2, 1, 0, 2, 2, 2, 1, 2, 2, 1, 1, 2,\n",
       "       1, 2, 2, 1, 1, 2, 2, 1, 2, 2, 2, 2, 2, 1, 2, 2, 2, 1, 0, 1, 2, 2, 2,\n",
       "       2, 2, 2, 2, 1, 1, 1, 1, 2, 2, 2, 0, 2, 2, 2, 2, 2, 2, 2, 1, 2, 2, 2,\n",
       "       1, 2, 2, 2, 1, 2, 1, 1, 2, 2, 2, 2, 2, 0, 2, 1, 1, 2, 1, 2, 0, 1, 1,\n",
       "       1, 2, 1, 2, 2, 2, 2, 1, 2, 2, 1, 2, 2, 2, 2, 1, 2, 1, 2, 2, 2, 2, 1,\n",
       "       2, 2, 2, 2, 2, 0, 2, 2, 1, 1, 1, 2, 2, 2, 2, 1, 2, 2, 1, 1, 2, 2, 2,\n",
       "       2, 1, 2, 2, 2, 2, 2, 2, 2, 1, 2, 1, 2, 2, 2, 2, 1, 2, 1, 1, 2, 1, 2,\n",
       "       2, 2, 1, 1, 2, 1, 2, 1, 2, 2, 2, 1, 2, 2, 1, 1, 2, 2, 1, 2, 2, 2, 2,\n",
       "       2, 2, 2, 2, 2, 2, 2, 1, 2, 2, 1, 1, 2, 2, 2, 1, 2, 2, 1, 2, 1, 1, 2,\n",
       "       2, 2, 2, 2, 1, 1, 2, 2, 2, 2, 2, 1, 1, 2, 2, 2, 2, 2, 2, 1, 1, 2, 2,\n",
       "       1, 2, 2, 2, 1, 1, 2, 1, 2, 2, 1, 1, 1, 1, 2, 2, 1, 2, 2, 1, 1, 2, 2,\n",
       "       1, 1, 1, 2, 0, 2, 2, 1, 2, 2, 2, 2, 2, 2, 2, 1, 2, 2, 2, 1, 2, 0, 1,\n",
       "       2, 2, 2, 1, 2, 2, 2, 2, 2, 1, 2, 2, 2, 2, 2, 2, 2, 1, 2, 2, 2, 2, 2,\n",
       "       2, 1, 2, 2, 2, 2, 1, 1, 1, 2, 2, 1, 2, 1, 1, 2, 2, 2, 2, 1, 2, 0, 2,\n",
       "       2, 2, 1, 1, 2, 2, 1, 0, 2, 1, 2, 2, 1, 1, 2, 2, 2, 1, 2, 1, 2, 1, 2,\n",
       "       1, 2, 1, 1, 1, 2, 1, 1, 2, 1, 2, 2, 2, 1, 2, 2, 1, 2, 1, 1, 2, 1, 2,\n",
       "       1, 2, 2, 2, 2, 2, 2, 1, 1, 2, 1, 2, 2, 1, 2, 1, 1, 1, 2, 1, 1, 1, 1,\n",
       "       1, 2, 2, 2, 1, 2, 2, 1, 1, 0, 2, 2, 2, 1, 2, 1, 1, 2, 2, 1, 2, 1, 2,\n",
       "       2, 2, 2, 1, 1, 2, 2, 2, 2, 2, 2, 2, 2, 2, 2, 1, 2, 2, 2, 1, 2, 1, 2,\n",
       "       1, 2, 2, 2, 2, 2, 2, 2, 2, 1, 1, 2, 1, 2, 2, 2, 2, 2, 2, 2, 1, 2, 2,\n",
       "       2, 2, 2, 2, 2, 1, 1, 2, 2, 1, 2, 1, 2, 2, 2, 2, 2, 1, 2, 2, 2, 2, 2,\n",
       "       1, 2, 2, 2, 2, 2, 1, 2, 2, 2, 2, 1, 1, 2, 2, 2, 2, 2, 2, 1, 2, 1, 2,\n",
       "       2, 2, 2, 2, 2, 2, 2, 2, 1, 2, 2, 2, 1, 2, 2, 1, 0, 2, 2, 2, 2, 1, 0,\n",
       "       2, 2, 2, 2, 2, 2, 2, 1, 1, 2, 1, 1, 2, 2, 2, 2, 2, 2, 2, 2, 2, 0, 2,\n",
       "       2, 2, 2, 1, 1, 1, 2, 2, 2, 1, 2, 2, 1, 1, 2, 2, 2, 2, 2, 2, 2, 2, 2,\n",
       "       2, 1, 2, 1, 2, 1, 2, 2, 2, 1, 2, 1, 2, 1, 2, 2, 1, 2, 2, 1, 2, 2, 1,\n",
       "       1, 1, 2, 2, 2, 2, 2, 2, 2, 2, 2, 2, 2, 2, 2, 2, 1, 2, 2, 2, 2, 2, 2,\n",
       "       2, 2, 1, 1, 2, 2, 2, 2, 2, 2, 2, 2, 2, 1, 1, 2, 2, 2, 2, 2, 2, 2, 2,\n",
       "       2, 2, 2, 2, 2, 1, 2, 1, 1, 1, 2, 2, 2, 2, 2, 1, 2, 2, 1, 2, 2, 2, 2,\n",
       "       2, 2, 2, 2, 2, 1, 1, 1, 1, 2, 2, 1, 1, 1, 2, 2, 2, 1, 2, 2, 2, 2, 2,\n",
       "       2, 2, 2, 1, 2, 2, 1, 2, 2, 0, 0, 1, 1, 2, 2, 2, 1, 2, 2, 2, 2, 2, 2,\n",
       "       2, 1, 2, 2, 2, 2, 1, 2, 1, 2, 1, 2, 2, 2, 0, 2, 2, 2, 2, 2, 2, 2, 2,\n",
       "       1, 1, 1, 2, 2, 2, 1, 1, 1, 1, 2, 1, 2, 1, 0, 1, 1, 2, 2, 2, 2, 1, 2,\n",
       "       2, 2, 2, 1, 1, 1, 2, 1, 2, 2, 1, 2, 1, 2, 2, 1, 2, 2, 1, 2, 2, 1, 2,\n",
       "       2, 2, 2, 2, 1, 2, 2, 1, 1, 1, 2, 2, 2, 2, 2, 2, 2, 2, 1, 1, 2, 2, 2,\n",
       "       2, 1, 1, 2, 2, 1, 1, 2, 2, 1, 2, 1, 1, 2, 2, 2, 0, 2, 2, 1, 2, 2, 2,\n",
       "       2, 1, 2, 2, 0, 2, 1, 2, 1, 1, 2, 1, 1, 2, 0, 2, 2, 2, 2, 2, 1, 2, 2,\n",
       "       2, 2, 2, 1, 2, 2, 2, 2, 2, 2, 2, 1, 2, 2, 1, 2, 2, 1, 1, 2, 2, 2, 0,\n",
       "       1, 2, 2, 1, 2, 2, 1, 1, 1, 1, 1, 2, 2, 1, 2, 1, 2, 2, 2, 2, 1, 2, 1,\n",
       "       2, 0, 1, 1, 2, 2, 2, 1, 2, 2, 2, 2, 2, 2, 2, 1, 2, 2, 1, 2, 1, 1, 1,\n",
       "       2, 2, 1, 2, 2, 2, 0, 2, 2, 2, 2, 2, 1, 2, 2, 2, 1, 2, 2, 2, 2, 2, 2,\n",
       "       1, 1, 2, 2, 1, 1, 1, 1, 2, 1, 1, 2, 1, 2, 2, 2, 2, 1, 1, 1, 2, 2, 2,\n",
       "       1, 2, 1, 2, 1, 1, 2, 2, 2, 2, 1, 2, 2, 2, 2, 1, 2, 2, 2, 2, 2, 2, 2,\n",
       "       1, 2, 2, 2, 2, 2, 0, 1, 2, 2, 0, 2, 1, 2, 1, 2, 1, 2, 0, 2, 2, 2, 2,\n",
       "       2, 2, 2, 2, 1, 2, 2, 2, 2, 2, 2, 2, 1, 2, 2, 1, 1, 1, 1, 1, 0, 1, 2,\n",
       "       1, 2, 2, 2, 2, 2, 2, 2, 2, 2, 2, 2, 2, 2, 1, 2, 1, 2, 2, 2, 2, 2, 2,\n",
       "       2, 2, 1, 2, 2, 2, 2, 1, 2, 2, 2, 2, 1, 1, 2, 2, 2, 1, 2, 2, 1, 2, 2,\n",
       "       2, 2, 1, 1, 1, 2, 2, 2, 2, 2, 2, 2, 0, 2, 2, 2, 2, 2, 2, 2, 2, 2, 2,\n",
       "       2, 2, 1, 1, 2, 1, 2, 2, 2, 2, 0, 2, 2, 2, 2, 2, 1, 2, 2, 2, 1, 2, 2,\n",
       "       1, 2, 1, 1, 2, 2, 1, 1, 1, 2, 1, 1, 1, 1, 1, 1, 2, 2, 1, 1, 2, 2, 2,\n",
       "       2, 1, 2, 2, 1, 2], dtype=int64)"
      ]
     },
     "execution_count": 75,
     "metadata": {},
     "output_type": "execute_result"
    }
   ],
   "source": [
    "model.predict_classes(DDD_Test_3D)"
   ]
  },
  {
   "cell_type": "code",
   "execution_count": 76,
   "metadata": {},
   "outputs": [
    {
     "name": "stdout",
     "output_type": "stream",
     "text": [
      "Course DDD - 3 Target Classes\n",
      "Classification Report for LSTM predictions:\n",
      "-------------------------------------------\n",
      "             precision    recall  f1-score   support\n",
      "\n",
      "          0       0.73      0.20      0.31       112\n",
      "          1       0.80      0.77      0.78       364\n",
      "          2       0.78      0.89      0.83       680\n",
      "\n",
      "avg / total       0.78      0.78      0.77      1156\n",
      "\n"
     ]
    }
   ],
   "source": [
    "print('Course DDD - 3 Target Classes')\n",
    "print('Classification Report for LSTM predictions:')\n",
    "print('-------------------------------------------')\n",
    "print(classification_report(y_pred=model.predict_classes(DDD_Test_3D), y_true=DDD_Test_Targets_1D))\n"
   ]
  },
  {
   "cell_type": "markdown",
   "metadata": {},
   "source": [
    "# LSTM Course FFF"
   ]
  },
  {
   "cell_type": "markdown",
   "metadata": {
    "collapsed": true
   },
   "source": [
    "### Train LSTM Course FFF"
   ]
  },
  {
   "cell_type": "code",
   "execution_count": 77,
   "metadata": {},
   "outputs": [
    {
     "name": "stdout",
     "output_type": "stream",
     "text": [
      "Epoch 1/4\n",
      "3849/3849 [==============================] - 14s 4ms/step - loss: 0.4201 - acc: 0.8210\n",
      "Epoch 2/4\n",
      "3849/3849 [==============================] - 14s 4ms/step - loss: 0.4037 - acc: 0.8231\n",
      "Epoch 3/4\n",
      "3849/3849 [==============================] - 15s 4ms/step - loss: 0.4019 - acc: 0.8272\n",
      "Epoch 4/4\n",
      "3849/3849 [==============================] - 15s 4ms/step - loss: 0.3942 - acc: 0.8257\n"
     ]
    },
    {
     "data": {
      "text/plain": [
       "<keras.callbacks.History at 0x202164e1dd8>"
      ]
     },
     "execution_count": 77,
     "metadata": {},
     "output_type": "execute_result"
    }
   ],
   "source": [
    "model.fit(FFF_Train_3D, FFF_Train_Targets_1HE, epochs=4, batch_size=1, verbose=1)"
   ]
  },
  {
   "cell_type": "markdown",
   "metadata": {
    "collapsed": true
   },
   "source": [
    "### Test LSTM Course FFF"
   ]
  },
  {
   "cell_type": "code",
   "execution_count": null,
   "metadata": {
    "collapsed": true
   },
   "outputs": [],
   "source": [
    "model.predict_classes(FFF_Test_3D)"
   ]
  },
  {
   "cell_type": "code",
   "execution_count": 78,
   "metadata": {},
   "outputs": [
    {
     "name": "stdout",
     "output_type": "stream",
     "text": [
      "Course FFF - 3 Target Classes\n",
      "Classification Report for LSTM predictions:\n",
      "-------------------------------------------\n",
      "             precision    recall  f1-score   support\n",
      "\n",
      "          0       0.76      0.57      0.65       258\n",
      "          1       0.96      0.80      0.87       393\n",
      "          2       0.81      0.93      0.87       859\n",
      "\n",
      "avg / total       0.84      0.83      0.83      1510\n",
      "\n"
     ]
    }
   ],
   "source": [
    "print('Course FFF - 3 Target Classes')\n",
    "print('Classification Report for LSTM predictions:')\n",
    "print('-------------------------------------------')\n",
    "print(classification_report(y_pred=model.predict_classes(FFF_Test_3D), y_true=FFF_Test_Targets_1D))\n"
   ]
  },
  {
   "cell_type": "code",
   "execution_count": null,
   "metadata": {
    "collapsed": true
   },
   "outputs": [],
   "source": []
  },
  {
   "cell_type": "code",
   "execution_count": null,
   "metadata": {
    "collapsed": true
   },
   "outputs": [],
   "source": []
  },
  {
   "cell_type": "code",
   "execution_count": null,
   "metadata": {
    "collapsed": true
   },
   "outputs": [],
   "source": []
  },
  {
   "cell_type": "code",
   "execution_count": null,
   "metadata": {
    "collapsed": true
   },
   "outputs": [],
   "source": []
  },
  {
   "cell_type": "code",
   "execution_count": null,
   "metadata": {
    "collapsed": true
   },
   "outputs": [],
   "source": []
  }
 ],
 "metadata": {
  "kernelspec": {
   "display_name": "Python 3",
   "language": "python",
   "name": "python3"
  },
  "language_info": {
   "codemirror_mode": {
    "name": "ipython",
    "version": 3
   },
   "file_extension": ".py",
   "mimetype": "text/x-python",
   "name": "python",
   "nbconvert_exporter": "python",
   "pygments_lexer": "ipython3",
   "version": "3.6.3"
  }
 },
 "nbformat": 4,
 "nbformat_minor": 2
}
